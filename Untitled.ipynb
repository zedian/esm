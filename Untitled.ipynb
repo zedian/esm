{
 "cells": [
  {
   "cell_type": "code",
   "execution_count": 1,
   "id": "3fdd9295",
   "metadata": {},
   "outputs": [],
   "source": [
    "import torch\n",
    "import pathlib\n",
    "import pandas as pd\n",
    "import numpy as np\n",
    "\n",
    "from torch.utils import data\n",
    "from torch import nn\n",
    "from torch.autograd import Variable\n",
    "import torch.nn.functional as F\n",
    "\n",
    "from time import time\n",
    "import copy\n",
    "from tqdm import tqdm\n",
    "from sklearn.metrics import roc_auc_score, average_precision_score, f1_score, roc_curve, confusion_matrix, precision_score, recall_score, auc\n",
    "from sklearn.model_selection import KFold\n",
    "torch.manual_seed(1)    # reproducible torch:2 np:3\n",
    "np.random.seed(1)\n",
    "\n",
    "from esm import Alphabet, FastaBatchedDataset, ProteinBertModel, pretrained\n",
    "\n",
    "import sys\n",
    "PATH_TO_REPO = \"/home/zdx/Documents/gitlab/meta-rl/esm\"\n",
    "sys.path.append(PATH_TO_REPO)"
   ]
  },
  {
   "cell_type": "code",
   "execution_count": 2,
   "id": "6b12461f",
   "metadata": {},
   "outputs": [],
   "source": [
    "from models import Embeddings, Encoder_MultipleLayers, Encoder\n",
    "from stream import BIN_Data_Encoder, BIN_combined_encoder"
   ]
  },
  {
   "cell_type": "code",
   "execution_count": 3,
   "id": "8eaf2ccb",
   "metadata": {},
   "outputs": [],
   "source": [
    "model_location = \"esm1_t6_43M_UR50S\"\n",
    "fasta_file = \"./examples/P62593.fasta\"\n",
    "output_dir = pathlib.Path(\"./examples/P62593_reprs/\")\n",
    "toks_per_batch = 4096\n",
    "repr_layers = [-1]\n",
    "include = [\"per_tok\"]\n",
    "truncate = True\n",
    "nogpu = True"
   ]
  },
  {
   "cell_type": "code",
   "execution_count": 18,
   "id": "9d4a0fe2",
   "metadata": {},
   "outputs": [
    {
     "name": "stdout",
     "output_type": "stream",
     "text": [
      "Read ./examples/P62593.fasta with 5397 sequences\n",
      "Processing 1 of 386 batches (14 sequences)\n",
      "torch.Size([14, 287])\n",
      "14\n",
      "torch.int64\n",
      "torch.Size([14, 287, 768])\n"
     ]
    }
   ],
   "source": [
    "model, alphabet = pretrained.load_model_and_alphabet(model_location)\n",
    "model.eval()\n",
    "if torch.cuda.is_available() and not nogpu:\n",
    "    model = model.cuda()\n",
    "    print(\"Transferred model to GPU\")\n",
    "\n",
    "dataset = FastaBatchedDataset.from_file(fasta_file)\n",
    "batches = dataset.get_batch_indices(toks_per_batch, extra_toks_per_seq=1)\n",
    "data_loader = torch.utils.data.DataLoader(\n",
    "    dataset, collate_fn=alphabet.get_batch_converter(), batch_sampler=batches\n",
    ")\n",
    "print(f\"Read {fasta_file} with {len(dataset)} sequences\")\n",
    "\n",
    "output_dir.mkdir(parents=True, exist_ok=True)\n",
    "return_contacts = \"contacts\" in include\n",
    "\n",
    "assert all(-(model.num_layers + 1) <= i <= model.num_layers for i in repr_layers)\n",
    "repr_layers = [(i + model.num_layers + 1) % (model.num_layers + 1) for i in repr_layers]\n",
    "\n",
    "with torch.no_grad():\n",
    "    for batch_idx, (labels, strs, toks) in enumerate(data_loader):\n",
    "        print(\n",
    "            f\"Processing {batch_idx + 1} of {len(batches)} batches ({toks.size(0)} sequences)\"\n",
    "        )\n",
    "        print(toks.shape)\n",
    "        print(len(strs))\n",
    "        if torch.cuda.is_available() and not nogpu:\n",
    "            toks = toks.to(device=\"cuda\", non_blocking=True)\n",
    "\n",
    "        # The model is trained on truncated sequences and passing longer ones in at\n",
    "        # infernce will cause an error. See https://github.com/facebookresearch/esm/issues/21\n",
    "        if truncate:\n",
    "            toks = toks[:, :1022]\n",
    "        \n",
    "        print(toks.dtype)\n",
    "        out = model(toks, repr_layers=repr_layers, return_contacts=return_contacts)\n",
    "\n",
    "        logits = out[\"logits\"].to(device=\"cpu\")\n",
    "        representations = {\n",
    "            layer: t.to(device=\"cpu\") for layer, t in out[\"representations\"].items()\n",
    "        }\n",
    "        \n",
    "        print(representations[6].shape)\n",
    "        break\n",
    "#         if return_contacts:\n",
    "#             contacts = out[\"contacts\"].to(device=\"cpu\")\n",
    "\n",
    "#         for i, label in enumerate(labels):\n",
    "#             output_file = output_dir / f\"{label}.pt\"\n",
    "#             output_file.parent.mkdir(parents=True, exist_ok=True)\n",
    "#             result = {\"label\": label}\n",
    "#             # Call clone on tensors to ensure tensors are not views into a larger representation\n",
    "#             # See https://github.com/pytorch/pytorch/issues/1995\n",
    "#             if \"per_tok\" in include:\n",
    "#                 result[\"representations\"] = {\n",
    "#                     layer: t[i, 1 : len(strs[i]) + 1].clone()\n",
    "#                     for layer, t in representations.items()\n",
    "#                 }\n",
    "#             if \"mean\" in include:\n",
    "#                 result[\"mean_representations\"] = {\n",
    "#                     layer: t[i, 1 : len(strs[i]) + 1].mean(0).clone()\n",
    "#                     for layer, t in representations.items()\n",
    "#                 }\n",
    "#             if \"bos\" in include:\n",
    "#                 result[\"bos_representations\"] = {\n",
    "#                     layer: t[i, 0].clone() for layer, t in representations.items()\n",
    "#                 }\n",
    "#             if return_contacts:\n",
    "#                 result[\"contacts\"] = contacts[i, : len(strs[i]), : len(strs[i])].clone()\n",
    "\n",
    "#             torch.save(\n",
    "#                 result,\n",
    "#                 output_file,\n",
    "#             )"
   ]
  },
  {
   "cell_type": "code",
   "execution_count": 5,
   "id": "11a614a2",
   "metadata": {},
   "outputs": [],
   "source": [
    "repr_dir = pathlib.Path(\"./embeddings/P62593_reprs/0|beta-lactamase_P20P|1.581033423.pt\")"
   ]
  },
  {
   "cell_type": "code",
   "execution_count": 6,
   "id": "cca8417c",
   "metadata": {},
   "outputs": [
    {
     "data": {
      "text/plain": [
       "tensor([-1.9424, -0.2423,  0.2781,  ...,  0.8565, -0.3662,  0.3713])"
      ]
     },
     "execution_count": 6,
     "metadata": {},
     "output_type": "execute_result"
    }
   ],
   "source": [
    "beta_lactamase = torch.load(repr_dir)\n",
    "beta_lactamase[\"mean_representations\"][34]"
   ]
  },
  {
   "cell_type": "code",
   "execution_count": 7,
   "id": "791b0140",
   "metadata": {},
   "outputs": [],
   "source": [
    "fasta_to_idx = {'<null_0>': 0, '<pad>': 1, '<eos>': 2, '<unk>': 3,\n",
    "  'L': 4, 'A': 5, 'G': 6, 'V': 7, 'S': 8, 'E': 9, 'R': 10, 'T': 11,\n",
    "  'I': 12, 'D': 13, 'P': 14, 'K': 15, 'Q': 16, 'N':17, 'F':18, 'Y': 19,\n",
    "  'M': 20, 'H': 21, 'W': 22, 'C': 23, 'X': 24,'B': 25,'U': 26,\n",
    "  'Z': 27, 'O': 28, '.': 29, '-': 30, '<null_1>': 31, '<cls>': 32,\n",
    "  '<mask>': 33, '<sep>': 34}\n",
    "\n",
    "smile_to_idx = {'#': 35,'%': 36,'(': 38,')': 37,'+': 39,'-': 40,'.': 41,\n",
    " '0': 43,'1': 42,'2': 45,'3': 44,'4': 47,'5': 46,'6': 49,'7': 48,'8': 51,\n",
    " '9': 50,'=': 52,'A': 53,'B': 55,'C': 54,'D': 57,'E': 56,'F': 59,'G': 58,\n",
    " 'H': 61,'I': 60,'K': 62,'L': 64,'M': 63,'N': 66,'O': 65,'P': 67,'R': 69,\n",
    " 'S': 68,'T': 71,'U': 70,'V': 73,'W': 72,'Y': 74,'Z': 76,'[': 75,']': 77,\n",
    " '_': 78,'a': 79,'b': 81,'c': 80,'d': 83,'e': 82,'f': 85,'g': 84,'h': 87,\n",
    " 'i': 86,'l': 89,'m': 88,'n': 91,'o': 90,'r': 93,'s': 92,'t': 95,'u': 94,'y': 96}\n"
   ]
  },
  {
   "cell_type": "code",
   "execution_count": 4,
   "id": "1b321826",
   "metadata": {},
   "outputs": [],
   "source": [
    "class Simple_Protein_Drug_Transformer(nn.Sequential):\n",
    "    def __init__(self):\n",
    "        super(Simple_Protein_Drug_Transformer, self).__init__()\n",
    "        self.max_d = 50\n",
    "        self.max_p = 545\n",
    "        self.dropout_rate = 0.1\n",
    "        self.emb_size = 768\n",
    "        self.hidden_size = 768\n",
    "        self.input_dim = 16693\n",
    "        self.intermediate_size = 1536\n",
    "        self.num_attention_heads = 8\n",
    "        self.attention_probs_dropout_prob = 0.1\n",
    "        self.hidden_dropout_prob = 0.1\n",
    "        self.vocab_size = 596\n",
    "        self.n_layer = 2\n",
    "        self.batch_size = 2\n",
    "        \n",
    "        self.flatten_dim = 78192\n",
    "        \n",
    "        # specialized embedding with positional one DRUG\n",
    "        self.emb = Embeddings(self.input_dim, self.emb_size, \n",
    "                              self.max_d, self.dropout_rate)\n",
    "        \n",
    "        self.encoder = Encoder_MultipleLayers(Encoder, self.n_layer, \n",
    "                                              self.hidden_size, \n",
    "                                              self.intermediate_size, \n",
    "                                              self.num_attention_heads, \n",
    "                                              self.attention_probs_dropout_prob, \n",
    "                                              self.hidden_dropout_prob)\n",
    "        \n",
    "        self.model, _ = pretrained.load_model_and_alphabet(model_location)\n",
    "        \n",
    "        self.model = self.model.cuda()\n",
    "        self.icnn = nn.Conv2d(1, 3, 3, padding = 0)\n",
    "        self.decoder = nn.Sequential(\n",
    "            nn.Linear(self.flatten_dim, 512),\n",
    "            nn.ReLU(True),\n",
    "            \n",
    "            nn.BatchNorm1d(512),\n",
    "            nn.Linear(512, 64),\n",
    "            nn.ReLU(True),\n",
    "            \n",
    "            nn.BatchNorm1d(64),\n",
    "            nn.Linear(64, 32),\n",
    "            nn.ReLU(True),\n",
    "            \n",
    "            #output layer\n",
    "            nn.Linear(32, 1)\n",
    "        )\n",
    "    def forward(self, drug, protein, drug_mask, protein_mask):\n",
    "        ex_d_mask = drug_mask.unsqueeze(1).unsqueeze(2)\n",
    "        ex_p_mask = protein_mask.unsqueeze(1).unsqueeze(2)\n",
    "        \n",
    "        ex_d_mask = (1.0 - ex_d_mask) * -10000.0\n",
    "        ex_p_mask = (1.0 - ex_p_mask) * -10000.0\n",
    "\n",
    "        d_emb = self.emb(drug) # batch_size x seq_length x embed_size\n",
    "        d_encoded_layers = self.encoder(d_emb.float(), ex_d_mask.float())\n",
    "        p_repr = self.model(protein, repr_layers=[6], \n",
    "                            return_contacts=False)[\"representations\"][6]\n",
    "\n",
    "        \n",
    "#         print(d_encoded_layers.shape)\n",
    "#         print(p_repr.shape)\n",
    "        \n",
    "        d_aug = torch.unsqueeze(d_encoded_layers, 2).repeat(1, 1, self.max_p, 1) # repeat along protein size\n",
    "        p_aug = torch.unsqueeze(p_repr, 1).repeat(1, self.max_d, 1, 1) # repeat along drug size\n",
    "        i = d_aug * p_aug # interaction\n",
    "        \n",
    "#         print(\"Interaction shape: \", i.shape)\n",
    "#         if self.gpus != 0:\n",
    "#             i_v = i.view(int(self.batch_size/self.gpus), -1, self.max_d, self.max_p)\n",
    "#         else:\n",
    "        i_v = i.view(self.batch_size, -1, self.max_d, self.max_p)\n",
    "#         print(i_v.shape)\n",
    "        # batch_size x embed size x max_drug_seq_len x max_protein_seq_len\n",
    "        i_v = torch.sum(i_v, dim = 1)\n",
    "#         print(i_v.shape)\n",
    "        i_v = torch.unsqueeze(i_v, 1)\n",
    "#         print(i_v.shape)\n",
    "        \n",
    "        i_v = F.dropout(i_v, p = self.dropout_rate)        \n",
    "        \n",
    "        #f = self.icnn2(self.icnn1(i_v))\n",
    "        f = self.icnn(i_v)\n",
    "        \n",
    "        #print(f.shape)\n",
    "        \n",
    "        #f = self.dense_net(f)\n",
    "        #print(f.shape)\n",
    "        \n",
    "#         f = f.view(int(self.batch_size/self.gpus), -1)\n",
    "        f = f.view(self.batch_size, -1)\n",
    "#         print(f.shape)\n",
    "        \n",
    "        #f_encode = torch.cat((d_encoded_layers[:,-1], p_encoded_layers[:,-1]), dim = 1)\n",
    "        \n",
    "        #score = self.decoder(torch.cat((f, f_encode), dim = 1))\n",
    "        score = self.decoder(f)\n",
    "        return score    "
   ]
  },
  {
   "cell_type": "code",
   "execution_count": 5,
   "id": "a3e9b6d3",
   "metadata": {},
   "outputs": [
    {
     "name": "stdout",
     "output_type": "stream",
     "text": [
      "--- Data Preparation ---\n"
     ]
    }
   ],
   "source": [
    "lr = 1e-5\n",
    "BATCH_SIZE = 2\n",
    "train_epoch = 10\n",
    "use_cuda = True\n",
    "loss_history = []\n",
    "\n",
    "model = Simple_Protein_Drug_Transformer()\n",
    "if use_cuda:\n",
    "    model = model.cuda()\n",
    "\n",
    "if torch.cuda.device_count() > 1:\n",
    "    print(\"Let's use\", torch.cuda.device_count(), \"GPUs!\")\n",
    "    model = nn.DataParallel(model, dim = 0)\n",
    "\n",
    "opt = torch.optim.Adam(model.parameters(), lr = lr)\n",
    "#opt = torch.optim.SGD(model.parameters(), lr = lr, momentum=0.9)\n",
    "\n",
    "print('--- Data Preparation ---')\n",
    "\n",
    "params = {'batch_size': BATCH_SIZE,\n",
    "          'shuffle': True,\n",
    "          'num_workers': 6, \n",
    "          'drop_last': True}\n",
    "\n",
    "dataFolder = '../MolTrans/dataset/BindingDB'\n",
    "df_train = pd.read_csv(dataFolder + '/train.csv')\n",
    "df_val = pd.read_csv(dataFolder + '/val.csv')\n",
    "df_test = pd.read_csv(dataFolder + '/test.csv')"
   ]
  },
  {
   "cell_type": "code",
   "execution_count": 6,
   "id": "831ea94e",
   "metadata": {},
   "outputs": [],
   "source": [
    "train_set = BIN_combined_encoder(df_train.index.values, df_train.Label.values, df_train, sep=True)\n",
    "train_gen = data.DataLoader(train_set, **params)\n",
    "\n",
    "valid_set = BIN_combined_encoder(df_val.index.values, df_val.Label.values, df_val, sep=True)\n",
    "valid_gen = data.DataLoader(valid_set, **params)\n",
    "\n",
    "test_set = BIN_combined_encoder(df_test.index.values, df_test.Label.values, df_test, sep=True)\n",
    "test_gen = data.DataLoader(test_set, **params)"
   ]
  },
  {
   "cell_type": "code",
   "execution_count": null,
   "id": "4282e92a",
   "metadata": {},
   "outputs": [
    {
     "name": "stdout",
     "output_type": "stream",
     "text": [
      "Training at Epoch 1 iteration 0 with loss 0.7095413\n"
     ]
    },
    {
     "name": "stderr",
     "output_type": "stream",
     "text": [
      "/home/zdx/.pyenv/versions/miniconda3-4.7.10/lib/python3.7/site-packages/ipykernel_launcher.py:55: RuntimeWarning: invalid value encountered in true_divide\n"
     ]
    },
    {
     "name": "stdout",
     "output_type": "stream",
     "text": [
      "optimal threshold: 0.1861250102519989\n",
      "AUROC:0.5007887299918731\n",
      "AUPRC: 0.14279876542639403\n",
      "Confusion Matrix : \n",
      " [[   1 5716]\n",
      " [   0  927]]\n",
      "Recall :  1.0\n",
      "Precision :  0.1395453861207286\n",
      "Accuracy :  0.13967489464178207\n",
      "Sensitivity :  0.00017491691446562882\n",
      "Specificity :  1.0\n",
      "Validation at Epoch 1 , AUROC: <function auc at 0x7fcc29f8f6a8> , AUPRC: 0.14279876542639403 , F1: 0.19867060561299854\n",
      "Training at Epoch 1 iteration 100 with loss 0.96491116\n",
      "Training at Epoch 1 iteration 200 with loss 0.18220273\n",
      "Training at Epoch 1 iteration 300 with loss 0.48842847\n",
      "Training at Epoch 1 iteration 400 with loss 0.26894093\n",
      "Training at Epoch 1 iteration 500 with loss 0.34537792\n",
      "Training at Epoch 1 iteration 600 with loss 0.5072064\n",
      "Training at Epoch 1 iteration 700 with loss 1.2910091\n",
      "Training at Epoch 1 iteration 800 with loss 0.7314662\n",
      "Training at Epoch 1 iteration 900 with loss 0.22559303\n",
      "Training at Epoch 1 iteration 1000 with loss 0.321477\n"
     ]
    },
    {
     "name": "stderr",
     "output_type": "stream",
     "text": [
      "/home/zdx/.pyenv/versions/miniconda3-4.7.10/lib/python3.7/site-packages/ipykernel_launcher.py:55: RuntimeWarning: invalid value encountered in true_divide\n"
     ]
    },
    {
     "name": "stdout",
     "output_type": "stream",
     "text": [
      "optimal threshold: 0.24901644885540009\n",
      "AUROC:0.6926975867692621\n",
      "AUPRC: 0.2949904355903709\n",
      "Confusion Matrix : \n",
      " [[1231 4486]\n",
      " [  64  863]]\n",
      "Recall :  0.9309600862998921\n",
      "Precision :  0.1613385679566274\n",
      "Accuracy :  0.31517158338350393\n",
      "Sensitivity :  0.21532272170718908\n",
      "Specificity :  0.9309600862998921\n",
      "Validation at Epoch 1 , AUROC: <function auc at 0x7fcc29f8f6a8> , AUPRC: 0.2949904355903709 , F1: 0.3271927412702777\n",
      "Training at Epoch 1 iteration 1100 with loss 1.3916979\n",
      "Training at Epoch 1 iteration 1200 with loss 0.6553582\n",
      "Training at Epoch 1 iteration 1300 with loss 1.1553395\n",
      "Training at Epoch 1 iteration 1400 with loss 0.65205324\n",
      "Training at Epoch 1 iteration 1500 with loss 0.2330795\n",
      "Training at Epoch 1 iteration 1600 with loss 0.40287077\n",
      "Training at Epoch 1 iteration 1700 with loss 0.20938721\n",
      "Training at Epoch 1 iteration 1800 with loss 0.8683054\n",
      "Training at Epoch 1 iteration 1900 with loss 1.2472793\n",
      "Training at Epoch 1 iteration 2000 with loss 2.0599303\n"
     ]
    },
    {
     "name": "stderr",
     "output_type": "stream",
     "text": [
      "/home/zdx/.pyenv/versions/miniconda3-4.7.10/lib/python3.7/site-packages/ipykernel_launcher.py:55: RuntimeWarning: invalid value encountered in true_divide\n"
     ]
    },
    {
     "name": "stdout",
     "output_type": "stream",
     "text": [
      "optimal threshold: 0.2263668328523636\n",
      "AUROC:0.6283836375132814\n",
      "AUPRC: 0.24609001530790886\n",
      "Confusion Matrix : \n",
      " [[  97 5620]\n",
      " [   1  926]]\n",
      "Recall :  0.9989212513484358\n",
      "Precision :  0.1414604338527345\n",
      "Accuracy :  0.15397350993377484\n",
      "Sensitivity :  0.016966940703165997\n",
      "Specificity :  0.9989212513484358\n",
      "Validation at Epoch 1 , AUROC: <function auc at 0x7fcc29f8f6a8> , AUPRC: 0.24609001530790886 , F1: 0.26499250374812594\n",
      "Training at Epoch 1 iteration 2100 with loss 0.35969508\n",
      "Training at Epoch 1 iteration 2200 with loss 0.3383567\n",
      "Training at Epoch 1 iteration 2300 with loss 0.53827083\n",
      "Training at Epoch 1 iteration 2400 with loss 0.2037122\n",
      "Training at Epoch 1 iteration 2500 with loss 0.2558115\n",
      "Training at Epoch 1 iteration 2600 with loss 0.16041526\n",
      "Training at Epoch 1 iteration 2700 with loss 0.03210838\n",
      "Training at Epoch 1 iteration 2800 with loss 0.38199684\n",
      "Training at Epoch 1 iteration 2900 with loss 0.31204915\n",
      "Training at Epoch 1 iteration 3000 with loss 0.07624294\n"
     ]
    },
    {
     "name": "stderr",
     "output_type": "stream",
     "text": [
      "/home/zdx/.pyenv/versions/miniconda3-4.7.10/lib/python3.7/site-packages/ipykernel_launcher.py:55: RuntimeWarning: invalid value encountered in true_divide\n"
     ]
    },
    {
     "name": "stdout",
     "output_type": "stream",
     "text": [
      "optimal threshold: 0.31081900000572205\n",
      "AUROC:0.7611735962634578\n",
      "AUPRC: 0.3508687974761631\n",
      "Confusion Matrix : \n",
      " [[3750 1967]\n",
      " [ 213  714]]\n",
      "Recall :  0.7702265372168284\n",
      "Precision :  0.26631853785900783\n",
      "Accuracy :  0.6718844069837447\n",
      "Sensitivity :  0.6559384292461081\n",
      "Specificity :  0.7702265372168284\n",
      "Validation at Epoch 1 , AUROC: <function auc at 0x7fcc29f8f6a8> , AUPRC: 0.3508687974761631 , F1: 0.419156774457634\n",
      "Training at Epoch 1 iteration 3100 with loss 0.311554\n",
      "Training at Epoch 1 iteration 3200 with loss 0.12567523\n",
      "Training at Epoch 1 iteration 3300 with loss 0.24737814\n",
      "Training at Epoch 1 iteration 3400 with loss 0.2210693\n",
      "Training at Epoch 1 iteration 3500 with loss 0.4701643\n",
      "Training at Epoch 1 iteration 3600 with loss 0.6532718\n",
      "Training at Epoch 1 iteration 3700 with loss 0.052556537\n",
      "Training at Epoch 1 iteration 3800 with loss 0.17064603\n",
      "Training at Epoch 1 iteration 3900 with loss 2.2725031\n",
      "Training at Epoch 1 iteration 4000 with loss 0.66806346\n"
     ]
    },
    {
     "name": "stderr",
     "output_type": "stream",
     "text": [
      "/home/zdx/.pyenv/versions/miniconda3-4.7.10/lib/python3.7/site-packages/ipykernel_launcher.py:55: RuntimeWarning: invalid value encountered in true_divide\n"
     ]
    },
    {
     "name": "stdout",
     "output_type": "stream",
     "text": [
      "optimal threshold: 0.14588113129138947\n",
      "AUROC:0.8454415652025914\n",
      "AUPRC: 0.440846402511752\n",
      "Confusion Matrix : \n",
      " [[3530 2187]\n",
      " [  97  830]]\n",
      "Recall :  0.895361380798274\n",
      "Precision :  0.27510772290354657\n",
      "Accuracy :  0.6562311860325105\n",
      "Sensitivity :  0.6174567080636697\n",
      "Specificity :  0.895361380798274\n",
      "Validation at Epoch 1 , AUROC: <function auc at 0x7fcc29f8f6a8> , AUPRC: 0.440846402511752 , F1: 0.48282931829830855\n",
      "Training at Epoch 1 iteration 4100 with loss 0.18972959\n",
      "Training at Epoch 1 iteration 4200 with loss 0.21501692\n",
      "Training at Epoch 1 iteration 4300 with loss 0.685064\n",
      "Training at Epoch 1 iteration 4400 with loss 0.08115525\n",
      "Training at Epoch 1 iteration 4500 with loss 0.25713515\n",
      "Training at Epoch 1 iteration 4600 with loss 0.573719\n",
      "Training at Epoch 1 iteration 4700 with loss 0.08018788\n",
      "Training at Epoch 1 iteration 4800 with loss 0.097366646\n",
      "Training at Epoch 1 iteration 4900 with loss 1.2720836\n",
      "Training at Epoch 1 iteration 5000 with loss 0.2102089\n"
     ]
    },
    {
     "name": "stderr",
     "output_type": "stream",
     "text": [
      "/home/zdx/.pyenv/versions/miniconda3-4.7.10/lib/python3.7/site-packages/ipykernel_launcher.py:55: RuntimeWarning: invalid value encountered in true_divide\n"
     ]
    },
    {
     "name": "stdout",
     "output_type": "stream",
     "text": [
      "optimal threshold: 0.14789006114006042\n",
      "AUROC:0.8508597439948495\n",
      "AUPRC: 0.44810894504829285\n",
      "Confusion Matrix : \n",
      " [[3435 2282]\n",
      " [  74  853]]\n",
      "Recall :  0.9201725997842503\n",
      "Precision :  0.2720893141945773\n",
      "Accuracy :  0.6453943407585792\n",
      "Sensitivity :  0.600839601189435\n",
      "Specificity :  0.9201725997842503\n",
      "Validation at Epoch 1 , AUROC: <function auc at 0x7fcc29f8f6a8> , AUPRC: 0.44810894504829285 , F1: 0.5181109582760202\n",
      "Training at Epoch 1 iteration 5100 with loss 0.4442305\n",
      "Training at Epoch 1 iteration 5200 with loss 0.6742098\n",
      "Training at Epoch 1 iteration 5300 with loss 0.79099417\n",
      "Training at Epoch 1 iteration 5400 with loss 0.40616164\n",
      "Training at Epoch 1 iteration 5500 with loss 0.31634825\n",
      "Training at Epoch 1 iteration 5600 with loss 0.7600298\n",
      "Training at Epoch 1 iteration 5700 with loss 0.6014817\n",
      "Training at Epoch 1 iteration 5800 with loss 0.7633886\n",
      "Training at Epoch 1 iteration 5900 with loss 0.05642558\n",
      "Training at Epoch 1 iteration 6000 with loss 0.7175677\n"
     ]
    },
    {
     "name": "stderr",
     "output_type": "stream",
     "text": [
      "/home/zdx/.pyenv/versions/miniconda3-4.7.10/lib/python3.7/site-packages/ipykernel_launcher.py:55: RuntimeWarning: invalid value encountered in true_divide\n"
     ]
    },
    {
     "name": "stdout",
     "output_type": "stream",
     "text": [
      "optimal threshold: 0.4101642072200775\n",
      "AUROC:0.8433246365473703\n",
      "AUPRC: 0.43843193375087947\n",
      "Confusion Matrix : \n",
      " [[3860 1857]\n",
      " [ 117  810]]\n",
      "Recall :  0.8737864077669902\n",
      "Precision :  0.30371203599550056\n",
      "Accuracy :  0.7028898254063817\n",
      "Sensitivity :  0.6751792898373272\n",
      "Specificity :  0.8737864077669902\n",
      "Validation at Epoch 1 , AUROC: <function auc at 0x7fcc29f8f6a8> , AUPRC: 0.43843193375087947 , F1: 0.46579601990049757\n",
      "Training at Epoch 1 iteration 6100 with loss 0.09581204\n",
      "Training at Epoch 1 iteration 6200 with loss 0.27347553\n",
      "Training at Epoch 1 iteration 6300 with loss 0.44636175\n",
      "optimal threshold: 0.3288111090660095\n",
      "AUROC:0.847513019233879\n",
      "AUPRC: 0.4635413169817455\n",
      "Confusion Matrix : \n",
      " [[3670 2047]\n",
      " [ 111  816]]\n",
      "Recall :  0.8802588996763754\n",
      "Precision :  0.28501571777855395\n",
      "Accuracy :  0.6751956652618905\n",
      "Sensitivity :  0.6419450760888578\n",
      "Specificity :  0.8802588996763754\n"
     ]
    },
    {
     "name": "stderr",
     "output_type": "stream",
     "text": [
      "/home/zdx/.pyenv/versions/miniconda3-4.7.10/lib/python3.7/site-packages/ipykernel_launcher.py:55: RuntimeWarning: invalid value encountered in true_divide\n"
     ]
    },
    {
     "name": "stdout",
     "output_type": "stream",
     "text": [
      "Training at Epoch 2 iteration 0 with loss 0.83673483\n"
     ]
    },
    {
     "name": "stderr",
     "output_type": "stream",
     "text": [
      "/home/zdx/.pyenv/versions/miniconda3-4.7.10/lib/python3.7/site-packages/ipykernel_launcher.py:55: RuntimeWarning: invalid value encountered in true_divide\n"
     ]
    },
    {
     "name": "stdout",
     "output_type": "stream",
     "text": [
      "optimal threshold: 0.4403763711452484\n",
      "AUROC:0.7789903086217435\n",
      "AUPRC: 0.3741839409434341\n",
      "Confusion Matrix : \n",
      " [[3337 2380]\n",
      " [ 164  763]]\n",
      "Recall :  0.8230852211434736\n",
      "Precision :  0.24276169265033407\n",
      "Accuracy :  0.617098133654425\n",
      "Sensitivity :  0.5836977435718034\n",
      "Specificity :  0.8230852211434736\n",
      "Validation at Epoch 2 , AUROC: <function auc at 0x7fcc29f8f6a8> , AUPRC: 0.3741839409434341 , F1: 0.42289239204934886\n",
      "Training at Epoch 2 iteration 100 with loss 0.40008587\n",
      "Training at Epoch 2 iteration 200 with loss 0.45702004\n",
      "Training at Epoch 2 iteration 300 with loss 1.0555514\n",
      "Training at Epoch 2 iteration 400 with loss 0.7679531\n",
      "Training at Epoch 2 iteration 500 with loss 0.46002096\n",
      "Training at Epoch 2 iteration 600 with loss 0.65463495\n",
      "Training at Epoch 2 iteration 700 with loss 0.112071946\n",
      "Training at Epoch 2 iteration 800 with loss 0.55185294\n",
      "Training at Epoch 2 iteration 900 with loss 0.13722022\n",
      "Training at Epoch 2 iteration 1000 with loss 0.8416516\n"
     ]
    },
    {
     "name": "stderr",
     "output_type": "stream",
     "text": [
      "/home/zdx/.pyenv/versions/miniconda3-4.7.10/lib/python3.7/site-packages/ipykernel_launcher.py:55: RuntimeWarning: invalid value encountered in true_divide\n"
     ]
    },
    {
     "name": "stdout",
     "output_type": "stream",
     "text": [
      "optimal threshold: 0.5478067994117737\n",
      "AUROC:0.8423932558679719\n",
      "AUPRC: 0.440460051895879\n",
      "Confusion Matrix : \n",
      " [[3822 1895]\n",
      " [ 127  800]]\n",
      "Recall :  0.8629989212513485\n",
      "Precision :  0.29684601113172543\n",
      "Accuracy :  0.6956652618904274\n",
      "Sensitivity :  0.6685324470876334\n",
      "Specificity :  0.8629989212513485\n",
      "Validation at Epoch 2 , AUROC: <function auc at 0x7fcc29f8f6a8> , AUPRC: 0.440460051895879 , F1: 0.4210255088894615\n",
      "Training at Epoch 2 iteration 1100 with loss 0.4291145\n",
      "Training at Epoch 2 iteration 1200 with loss 0.6539509\n",
      "Training at Epoch 2 iteration 1300 with loss 0.15852097\n",
      "Training at Epoch 2 iteration 1400 with loss 0.03924471\n",
      "Training at Epoch 2 iteration 1500 with loss 0.21998638\n",
      "Training at Epoch 2 iteration 1600 with loss 0.4588619\n",
      "Training at Epoch 2 iteration 1700 with loss 0.0873619\n",
      "Training at Epoch 2 iteration 1800 with loss 0.5302434\n",
      "Training at Epoch 2 iteration 1900 with loss 0.06428333\n",
      "Training at Epoch 2 iteration 2000 with loss 0.60870576\n"
     ]
    },
    {
     "name": "stderr",
     "output_type": "stream",
     "text": [
      "/home/zdx/.pyenv/versions/miniconda3-4.7.10/lib/python3.7/site-packages/ipykernel_launcher.py:55: RuntimeWarning: invalid value encountered in true_divide\n"
     ]
    },
    {
     "name": "stdout",
     "output_type": "stream",
     "text": [
      "optimal threshold: 0.21491584181785583\n",
      "AUROC:0.8417064192243313\n",
      "AUPRC: 0.49687355644198\n",
      "Confusion Matrix : \n",
      " [[3765 1952]\n",
      " [ 136  791]]\n",
      "Recall :  0.8532901833872708\n",
      "Precision :  0.2883703973751367\n",
      "Accuracy :  0.6857314870559904\n",
      "Sensitivity :  0.6585621829630925\n",
      "Specificity :  0.8532901833872708\n",
      "Validation at Epoch 2 , AUROC: <function auc at 0x7fcc29f8f6a8> , AUPRC: 0.49687355644198 , F1: 0.4813798510388083\n",
      "Training at Epoch 2 iteration 2100 with loss 0.37940323\n",
      "Training at Epoch 2 iteration 2200 with loss 0.9055655\n",
      "Training at Epoch 2 iteration 2300 with loss 0.07371768\n",
      "Training at Epoch 2 iteration 2400 with loss 0.47804534\n",
      "Training at Epoch 2 iteration 2500 with loss 0.19828323\n",
      "Training at Epoch 2 iteration 2600 with loss 0.10600317\n",
      "Training at Epoch 2 iteration 2700 with loss 0.7293251\n",
      "Training at Epoch 2 iteration 2800 with loss 0.8356275\n",
      "Training at Epoch 2 iteration 2900 with loss 0.4783197\n",
      "Training at Epoch 2 iteration 3000 with loss 0.08902496\n"
     ]
    },
    {
     "name": "stderr",
     "output_type": "stream",
     "text": [
      "/home/zdx/.pyenv/versions/miniconda3-4.7.10/lib/python3.7/site-packages/ipykernel_launcher.py:55: RuntimeWarning: invalid value encountered in true_divide\n"
     ]
    },
    {
     "name": "stdout",
     "output_type": "stream",
     "text": [
      "optimal threshold: 0.5438721776008606\n",
      "AUROC:0.8480869240832288\n",
      "AUPRC: 0.4602188967611124\n",
      "Confusion Matrix : \n",
      " [[3896 1821]\n",
      " [ 118  809]]\n",
      "Recall :  0.8727076591154261\n",
      "Precision :  0.3076045627376426\n",
      "Accuracy :  0.7081577363034317\n",
      "Sensitivity :  0.6814762987580899\n",
      "Specificity :  0.8727076591154261\n",
      "Validation at Epoch 2 , AUROC: <function auc at 0x7fcc29f8f6a8> , AUPRC: 0.4602188967611124 , F1: 0.44127922601451225\n",
      "Training at Epoch 2 iteration 3100 with loss 0.5757474\n",
      "Training at Epoch 2 iteration 3200 with loss 0.24743982\n",
      "Training at Epoch 2 iteration 3300 with loss 0.21116757\n",
      "Training at Epoch 2 iteration 3400 with loss 0.082447246\n",
      "Training at Epoch 2 iteration 3500 with loss 0.26996288\n",
      "Training at Epoch 2 iteration 3600 with loss 0.023948252\n",
      "Training at Epoch 2 iteration 3700 with loss 1.8911667\n",
      "Training at Epoch 2 iteration 3800 with loss 0.3765376\n",
      "Training at Epoch 2 iteration 3900 with loss 0.6376332\n",
      "Training at Epoch 2 iteration 4000 with loss 1.2565457\n"
     ]
    },
    {
     "name": "stderr",
     "output_type": "stream",
     "text": [
      "/home/zdx/.pyenv/versions/miniconda3-4.7.10/lib/python3.7/site-packages/ipykernel_launcher.py:55: RuntimeWarning: invalid value encountered in true_divide\n"
     ]
    },
    {
     "name": "stdout",
     "output_type": "stream",
     "text": [
      "optimal threshold: 0.6064188480377197\n",
      "AUROC:0.8478720989407055\n",
      "AUPRC: 0.41446390630115165\n",
      "Confusion Matrix : \n",
      " [[3761 1956]\n",
      " [ 111  816]]\n",
      "Recall :  0.8802588996763754\n",
      "Precision :  0.2943722943722944\n",
      "Accuracy :  0.6888922335942204\n",
      "Sensitivity :  0.65786251530523\n",
      "Specificity :  0.8802588996763754\n",
      "Validation at Epoch 2 , AUROC: <function auc at 0x7fcc29f8f6a8> , AUPRC: 0.41446390630115165 , F1: 0.4136241117373193\n",
      "Training at Epoch 2 iteration 4100 with loss 0.6754812\n",
      "Training at Epoch 2 iteration 4200 with loss 0.3977648\n",
      "Training at Epoch 2 iteration 4300 with loss 0.20768014\n",
      "Training at Epoch 2 iteration 4400 with loss 0.27544522\n",
      "Training at Epoch 2 iteration 4500 with loss 0.0790312\n",
      "Training at Epoch 2 iteration 4600 with loss 0.30948007\n",
      "Training at Epoch 2 iteration 4700 with loss 0.24587256\n",
      "Training at Epoch 2 iteration 4800 with loss 0.25908682\n",
      "Training at Epoch 2 iteration 4900 with loss 0.16625403\n",
      "Training at Epoch 2 iteration 5000 with loss 0.074650094\n"
     ]
    },
    {
     "name": "stderr",
     "output_type": "stream",
     "text": [
      "/home/zdx/.pyenv/versions/miniconda3-4.7.10/lib/python3.7/site-packages/ipykernel_launcher.py:55: RuntimeWarning: invalid value encountered in true_divide\n"
     ]
    },
    {
     "name": "stdout",
     "output_type": "stream",
     "text": [
      "optimal threshold: 0.4166851043701172\n",
      "AUROC:0.8600549582529745\n",
      "AUPRC: 0.49070094932360786\n",
      "Confusion Matrix : \n",
      " [[4194 1523]\n",
      " [ 137  790]]\n",
      "Recall :  0.8522114347357066\n",
      "Precision :  0.34154777345438825\n",
      "Accuracy :  0.7501505117399158\n",
      "Sensitivity :  0.7336015392688473\n",
      "Specificity :  0.8522114347357066\n",
      "Validation at Epoch 2 , AUROC: <function auc at 0x7fcc29f8f6a8> , AUPRC: 0.49070094932360786 , F1: 0.5030425963488844\n",
      "Training at Epoch 2 iteration 5100 with loss 1.159024\n",
      "Training at Epoch 2 iteration 5200 with loss 0.12506653\n",
      "Training at Epoch 2 iteration 5300 with loss 0.15337844\n",
      "Training at Epoch 2 iteration 5400 with loss 0.77045226\n",
      "Training at Epoch 2 iteration 5500 with loss 1.0941689\n",
      "Training at Epoch 2 iteration 5600 with loss 0.6316197\n",
      "Training at Epoch 2 iteration 5700 with loss 0.123727985\n",
      "Training at Epoch 2 iteration 5800 with loss 0.33621153\n",
      "Training at Epoch 2 iteration 5900 with loss 0.6706207\n",
      "Training at Epoch 2 iteration 6000 with loss 0.0922581\n"
     ]
    },
    {
     "name": "stderr",
     "output_type": "stream",
     "text": [
      "/home/zdx/.pyenv/versions/miniconda3-4.7.10/lib/python3.7/site-packages/ipykernel_launcher.py:55: RuntimeWarning: invalid value encountered in true_divide\n"
     ]
    },
    {
     "name": "stdout",
     "output_type": "stream",
     "text": [
      "optimal threshold: 0.4307047426700592\n",
      "AUROC:0.8800125630724543\n",
      "AUPRC: 0.5298711882731942\n",
      "Confusion Matrix : \n",
      " [[4067 1650]\n",
      " [  97  830]]\n",
      "Recall :  0.895361380798274\n",
      "Precision :  0.3346774193548387\n",
      "Accuracy :  0.7370559903672487\n",
      "Sensitivity :  0.7113870911317124\n",
      "Specificity :  0.895361380798274\n",
      "Validation at Epoch 2 , AUROC: <function auc at 0x7fcc29f8f6a8> , AUPRC: 0.5298711882731942 , F1: 0.5030283710551482\n",
      "Training at Epoch 2 iteration 6100 with loss 0.28687927\n",
      "Training at Epoch 2 iteration 6200 with loss 0.86788136\n",
      "Training at Epoch 2 iteration 6300 with loss 0.2909387\n",
      "optimal threshold: 0.3130354583263397\n",
      "AUROC:0.8334811730339632\n",
      "AUPRC: 0.4077351727762092\n",
      "Confusion Matrix : \n",
      " [[3321 2396]\n",
      " [  58  869]]\n",
      "Recall :  0.9374325782092773\n",
      "Precision :  0.26615620214395097\n",
      "Accuracy :  0.6306441902468393\n",
      "Sensitivity :  0.5808990729403534\n",
      "Specificity :  0.9374325782092773\n"
     ]
    },
    {
     "name": "stderr",
     "output_type": "stream",
     "text": [
      "/home/zdx/.pyenv/versions/miniconda3-4.7.10/lib/python3.7/site-packages/ipykernel_launcher.py:55: RuntimeWarning: invalid value encountered in true_divide\n"
     ]
    },
    {
     "name": "stdout",
     "output_type": "stream",
     "text": [
      "Training at Epoch 3 iteration 0 with loss 0.8329689\n"
     ]
    },
    {
     "name": "stderr",
     "output_type": "stream",
     "text": [
      "/home/zdx/.pyenv/versions/miniconda3-4.7.10/lib/python3.7/site-packages/ipykernel_launcher.py:55: RuntimeWarning: invalid value encountered in true_divide\n"
     ]
    },
    {
     "name": "stdout",
     "output_type": "stream",
     "text": [
      "optimal threshold: 0.2225741595029831\n",
      "AUROC:0.6635844872283292\n",
      "AUPRC: 0.27878599044553853\n",
      "Confusion Matrix : \n",
      " [[ 931 4786]\n",
      " [  69  858]]\n",
      "Recall :  0.9255663430420712\n",
      "Precision :  0.1520198440822112\n",
      "Accuracy :  0.26926550270921135\n",
      "Sensitivity :  0.16284764736750043\n",
      "Specificity :  0.9255663430420712\n",
      "Validation at Epoch 3 , AUROC: <function auc at 0x7fcc29f8f6a8> , AUPRC: 0.27878599044553853 , F1: 0.31897775674396595\n",
      "Training at Epoch 3 iteration 100 with loss 0.13522476\n",
      "Training at Epoch 3 iteration 200 with loss 0.06411123\n",
      "Training at Epoch 3 iteration 300 with loss 0.26232827\n",
      "Training at Epoch 3 iteration 400 with loss 0.14902374\n",
      "Training at Epoch 3 iteration 500 with loss 0.505558\n",
      "Training at Epoch 3 iteration 600 with loss 0.005268122\n",
      "Training at Epoch 3 iteration 700 with loss 0.4479829\n",
      "Training at Epoch 3 iteration 800 with loss 0.08924453\n",
      "Training at Epoch 3 iteration 900 with loss 0.44608745\n",
      "Training at Epoch 3 iteration 1000 with loss 0.087291166\n"
     ]
    },
    {
     "name": "stderr",
     "output_type": "stream",
     "text": [
      "/home/zdx/.pyenv/versions/miniconda3-4.7.10/lib/python3.7/site-packages/ipykernel_launcher.py:55: RuntimeWarning: invalid value encountered in true_divide\n"
     ]
    },
    {
     "name": "stdout",
     "output_type": "stream",
     "text": [
      "optimal threshold: 0.36433741450309753\n",
      "AUROC:0.8734022321058771\n",
      "AUPRC: 0.5361486672359932\n",
      "Confusion Matrix : \n",
      " [[3863 1854]\n",
      " [  94  833]]\n",
      "Recall :  0.8985976267529665\n",
      "Precision :  0.3100111648678824\n",
      "Accuracy :  0.7068031306441902\n",
      "Sensitivity :  0.6757040405807242\n",
      "Specificity :  0.8985976267529665\n",
      "Validation at Epoch 3 , AUROC: <function auc at 0x7fcc29f8f6a8> , AUPRC: 0.5361486672359932 , F1: 0.5104919160646715\n",
      "Training at Epoch 3 iteration 1100 with loss 0.142799\n",
      "Training at Epoch 3 iteration 1200 with loss 0.84607273\n",
      "Training at Epoch 3 iteration 1300 with loss 0.6352037\n",
      "Training at Epoch 3 iteration 1400 with loss 1.4054246\n",
      "Training at Epoch 3 iteration 1500 with loss 0.21245617\n",
      "Training at Epoch 3 iteration 1600 with loss 1.4767148\n",
      "Training at Epoch 3 iteration 1700 with loss 0.12686442\n",
      "Training at Epoch 3 iteration 1800 with loss 0.09884651\n",
      "Training at Epoch 3 iteration 1900 with loss 0.17029193\n",
      "Training at Epoch 3 iteration 2000 with loss 0.014738404\n"
     ]
    },
    {
     "name": "stderr",
     "output_type": "stream",
     "text": [
      "/home/zdx/.pyenv/versions/miniconda3-4.7.10/lib/python3.7/site-packages/ipykernel_launcher.py:55: RuntimeWarning: invalid value encountered in true_divide\n"
     ]
    },
    {
     "name": "stdout",
     "output_type": "stream",
     "text": [
      "optimal threshold: 0.3855626583099365\n",
      "AUROC:0.8767103694784892\n",
      "AUPRC: 0.5011559614335757\n",
      "Confusion Matrix : \n",
      " [[4218 1499]\n",
      " [ 112  815]]\n",
      "Recall :  0.8791801510248112\n",
      "Precision :  0.35220397579948143\n",
      "Accuracy :  0.7575255869957856\n",
      "Sensitivity :  0.7377995452160224\n",
      "Specificity :  0.8791801510248112\n",
      "Validation at Epoch 3 , AUROC: <function auc at 0x7fcc29f8f6a8> , AUPRC: 0.5011559614335757 , F1: 0.5195071868583162\n",
      "Training at Epoch 3 iteration 2100 with loss 1.0575968\n",
      "Training at Epoch 3 iteration 2200 with loss 0.16829959\n",
      "Training at Epoch 3 iteration 2300 with loss 0.019313248\n",
      "Training at Epoch 3 iteration 2400 with loss 0.03228493\n",
      "Training at Epoch 3 iteration 2500 with loss 0.10005756\n",
      "Training at Epoch 3 iteration 2600 with loss 0.2109066\n",
      "Training at Epoch 3 iteration 2700 with loss 0.6779738\n",
      "Training at Epoch 3 iteration 2800 with loss 0.08793746\n",
      "Training at Epoch 3 iteration 2900 with loss 1.0639697\n",
      "Training at Epoch 3 iteration 3000 with loss 0.02475653\n"
     ]
    },
    {
     "name": "stderr",
     "output_type": "stream",
     "text": [
      "/home/zdx/.pyenv/versions/miniconda3-4.7.10/lib/python3.7/site-packages/ipykernel_launcher.py:55: RuntimeWarning: invalid value encountered in true_divide\n"
     ]
    },
    {
     "name": "stdout",
     "output_type": "stream",
     "text": [
      "optimal threshold: 0.22867262363433838\n",
      "AUROC:0.8749334627001473\n",
      "AUPRC: 0.5176555833400688\n",
      "Confusion Matrix : \n",
      " [[3660 2057]\n",
      " [  68  859]]\n",
      "Recall :  0.9266450916936354\n",
      "Precision :  0.2945816186556927\n",
      "Accuracy :  0.680162552679109\n",
      "Sensitivity :  0.6401959069442015\n",
      "Specificity :  0.9266450916936354\n",
      "Validation at Epoch 3 , AUROC: <function auc at 0x7fcc29f8f6a8> , AUPRC: 0.5176555833400688 , F1: 0.511884257664485\n",
      "Training at Epoch 3 iteration 3100 with loss 0.25699487\n",
      "Training at Epoch 3 iteration 3200 with loss 0.16407639\n",
      "Training at Epoch 3 iteration 3300 with loss 0.06899071\n",
      "Training at Epoch 3 iteration 3400 with loss 0.41240746\n",
      "Training at Epoch 3 iteration 3500 with loss 0.029046368\n",
      "Training at Epoch 3 iteration 3600 with loss 0.12185162\n",
      "Training at Epoch 3 iteration 3700 with loss 0.20300749\n",
      "Training at Epoch 3 iteration 3800 with loss 0.049253564\n",
      "Training at Epoch 3 iteration 3900 with loss 0.09404088\n",
      "Training at Epoch 3 iteration 4000 with loss 0.391005\n"
     ]
    },
    {
     "name": "stderr",
     "output_type": "stream",
     "text": [
      "/home/zdx/.pyenv/versions/miniconda3-4.7.10/lib/python3.7/site-packages/ipykernel_launcher.py:55: RuntimeWarning: invalid value encountered in true_divide\n"
     ]
    },
    {
     "name": "stdout",
     "output_type": "stream",
     "text": [
      "optimal threshold: 0.48341885209083557\n",
      "AUROC:0.8750857366483391\n",
      "AUPRC: 0.5288315025191986\n",
      "Confusion Matrix : \n",
      " [[4043 1674]\n",
      " [ 112  815]]\n",
      "Recall :  0.8791801510248112\n",
      "Precision :  0.32744073925271194\n",
      "Accuracy :  0.7311860325105358\n",
      "Sensitivity :  0.7071890851845374\n",
      "Specificity :  0.8791801510248112\n",
      "Validation at Epoch 3 , AUROC: <function auc at 0x7fcc29f8f6a8> , AUPRC: 0.5288315025191986 , F1: 0.48174745661280666\n",
      "Training at Epoch 3 iteration 4100 with loss 0.37702137\n",
      "Training at Epoch 3 iteration 4200 with loss 0.20680718\n",
      "Training at Epoch 3 iteration 4300 with loss 0.1892597\n",
      "Training at Epoch 3 iteration 4400 with loss 0.12655044\n",
      "Training at Epoch 3 iteration 4500 with loss 0.5978578\n",
      "Training at Epoch 3 iteration 4600 with loss 0.22680044\n",
      "Training at Epoch 3 iteration 4700 with loss 0.2151928\n",
      "Training at Epoch 3 iteration 4800 with loss 0.14893246\n",
      "Training at Epoch 3 iteration 4900 with loss 1.0332847\n",
      "Training at Epoch 3 iteration 5000 with loss 0.15147819\n"
     ]
    },
    {
     "name": "stderr",
     "output_type": "stream",
     "text": [
      "/home/zdx/.pyenv/versions/miniconda3-4.7.10/lib/python3.7/site-packages/ipykernel_launcher.py:55: RuntimeWarning: invalid value encountered in true_divide\n"
     ]
    },
    {
     "name": "stdout",
     "output_type": "stream",
     "text": [
      "optimal threshold: 0.3390435576438904\n",
      "AUROC:0.8845848383829977\n",
      "AUPRC: 0.5345787971949787\n",
      "Confusion Matrix : \n",
      " [[4297 1420]\n",
      " [ 118  809]]\n",
      "Recall :  0.8727076591154261\n",
      "Precision :  0.36294302377747867\n",
      "Accuracy :  0.7685129440096328\n",
      "Sensitivity :  0.7516179814588071\n",
      "Specificity :  0.8727076591154261\n",
      "Validation at Epoch 3 , AUROC: <function auc at 0x7fcc29f8f6a8> , AUPRC: 0.5345787971949787 , F1: 0.5402091597547781\n",
      "Training at Epoch 3 iteration 5100 with loss 0.21887791\n",
      "Training at Epoch 3 iteration 5200 with loss 0.032594144\n",
      "Training at Epoch 3 iteration 5300 with loss 0.6105561\n",
      "Training at Epoch 3 iteration 5400 with loss 0.058375955\n",
      "Training at Epoch 3 iteration 5500 with loss 0.1882127\n",
      "Training at Epoch 3 iteration 5600 with loss 0.478979\n",
      "Training at Epoch 3 iteration 5700 with loss 0.13156624\n",
      "Training at Epoch 3 iteration 5800 with loss 0.7062181\n",
      "Training at Epoch 3 iteration 5900 with loss 0.31398594\n",
      "Training at Epoch 3 iteration 6000 with loss 0.06224751\n"
     ]
    },
    {
     "name": "stderr",
     "output_type": "stream",
     "text": [
      "/home/zdx/.pyenv/versions/miniconda3-4.7.10/lib/python3.7/site-packages/ipykernel_launcher.py:55: RuntimeWarning: invalid value encountered in true_divide\n"
     ]
    },
    {
     "name": "stdout",
     "output_type": "stream",
     "text": [
      "optimal threshold: 0.3381635546684265\n",
      "AUROC:0.8769895383835073\n",
      "AUPRC: 0.5155755707898657\n",
      "Confusion Matrix : \n",
      " [[3971 1746]\n",
      " [  93  834]]\n",
      "Recall :  0.8996763754045307\n",
      "Precision :  0.32325581395348835\n",
      "Accuracy :  0.723208910295003\n",
      "Sensitivity :  0.694595067343012\n",
      "Specificity :  0.8996763754045307\n",
      "Validation at Epoch 3 , AUROC: <function auc at 0x7fcc29f8f6a8> , AUPRC: 0.5155755707898657 , F1: 0.5134408602150539\n",
      "Training at Epoch 3 iteration 6100 with loss 0.3552531\n",
      "Training at Epoch 3 iteration 6200 with loss 1.2784996\n",
      "Training at Epoch 3 iteration 6300 with loss 1.8149362\n",
      "optimal threshold: 0.34103694558143616\n",
      "AUROC:0.8841725477054279\n",
      "AUPRC: 0.5477787466830155\n",
      "Confusion Matrix : \n",
      " [[4062 1655]\n",
      " [  97  830]]\n",
      "Recall :  0.895361380798274\n",
      "Precision :  0.33400402414486924\n",
      "Accuracy :  0.7363034316676701\n",
      "Sensitivity :  0.7105125065593842\n",
      "Specificity :  0.895361380798274\n"
     ]
    },
    {
     "name": "stderr",
     "output_type": "stream",
     "text": [
      "/home/zdx/.pyenv/versions/miniconda3-4.7.10/lib/python3.7/site-packages/ipykernel_launcher.py:55: RuntimeWarning: invalid value encountered in true_divide\n"
     ]
    },
    {
     "name": "stdout",
     "output_type": "stream",
     "text": [
      "Training at Epoch 4 iteration 0 with loss 0.6068392\n"
     ]
    },
    {
     "name": "stderr",
     "output_type": "stream",
     "text": [
      "/home/zdx/.pyenv/versions/miniconda3-4.7.10/lib/python3.7/site-packages/ipykernel_launcher.py:55: RuntimeWarning: invalid value encountered in true_divide\n"
     ]
    },
    {
     "name": "stdout",
     "output_type": "stream",
     "text": [
      "optimal threshold: 0.3235498368740082\n",
      "AUROC:0.8648558331771914\n",
      "AUPRC: 0.4827825873012732\n",
      "Confusion Matrix : \n",
      " [[4064 1653]\n",
      " [ 109  818]]\n",
      "Recall :  0.8824163969795038\n",
      "Precision :  0.3310400647511129\n",
      "Accuracy :  0.7347983142685129\n",
      "Sensitivity :  0.7108623403883155\n",
      "Specificity :  0.8824163969795038\n",
      "Validation at Epoch 4 , AUROC: <function auc at 0x7fcc29f8f6a8> , AUPRC: 0.4827825873012732 , F1: 0.5361420900454358\n",
      "Training at Epoch 4 iteration 100 with loss 1.4318756\n",
      "Training at Epoch 4 iteration 200 with loss 0.31371757\n",
      "Training at Epoch 4 iteration 300 with loss 0.25298363\n",
      "Training at Epoch 4 iteration 400 with loss 2.0604823\n",
      "Training at Epoch 4 iteration 500 with loss 0.0030617001\n",
      "Training at Epoch 4 iteration 600 with loss 0.04415122\n",
      "Training at Epoch 4 iteration 700 with loss 0.30335283\n",
      "Training at Epoch 4 iteration 800 with loss 0.02633631\n",
      "Training at Epoch 4 iteration 900 with loss 0.6210745\n",
      "Training at Epoch 4 iteration 1000 with loss 0.6336658\n"
     ]
    },
    {
     "name": "stderr",
     "output_type": "stream",
     "text": [
      "/home/zdx/.pyenv/versions/miniconda3-4.7.10/lib/python3.7/site-packages/ipykernel_launcher.py:55: RuntimeWarning: invalid value encountered in true_divide\n"
     ]
    },
    {
     "name": "stdout",
     "output_type": "stream",
     "text": [
      "optimal threshold: 0.46841782331466675\n",
      "AUROC:0.8936112681966897\n",
      "AUPRC: 0.5564609636167069\n",
      "Confusion Matrix : \n",
      " [[3976 1741]\n",
      " [  69  858]]\n",
      "Recall :  0.9255663430420712\n",
      "Precision :  0.33012697191227397\n",
      "Accuracy :  0.7275737507525587\n",
      "Sensitivity :  0.6954696519153402\n",
      "Specificity :  0.9255663430420712\n",
      "Validation at Epoch 4 , AUROC: <function auc at 0x7fcc29f8f6a8> , AUPRC: 0.5564609636167069 , F1: 0.4910248986682108\n",
      "Training at Epoch 4 iteration 1100 with loss 0.038534585\n",
      "Training at Epoch 4 iteration 1200 with loss 0.1738143\n",
      "Training at Epoch 4 iteration 1300 with loss 0.019189363\n",
      "Training at Epoch 4 iteration 1400 with loss 0.009930051\n",
      "Training at Epoch 4 iteration 1500 with loss 0.1624697\n",
      "Training at Epoch 4 iteration 1600 with loss 0.67213035\n",
      "Training at Epoch 4 iteration 1700 with loss 0.17242971\n",
      "Training at Epoch 4 iteration 1800 with loss 0.24453697\n",
      "Training at Epoch 4 iteration 1900 with loss 1.4473606\n",
      "Training at Epoch 4 iteration 2000 with loss 0.017114608\n"
     ]
    },
    {
     "name": "stderr",
     "output_type": "stream",
     "text": [
      "/home/zdx/.pyenv/versions/miniconda3-4.7.10/lib/python3.7/site-packages/ipykernel_launcher.py:55: RuntimeWarning: invalid value encountered in true_divide\n"
     ]
    },
    {
     "name": "stdout",
     "output_type": "stream",
     "text": [
      "optimal threshold: 0.41270390152931213\n",
      "AUROC:0.882026560576822\n",
      "AUPRC: 0.5500271235285191\n",
      "Confusion Matrix : \n",
      " [[4010 1707]\n",
      " [ 103  824]]\n",
      "Recall :  0.8888888888888888\n",
      "Precision :  0.3255630185697353\n",
      "Accuracy :  0.7275737507525587\n",
      "Sensitivity :  0.7014168270071716\n",
      "Specificity :  0.8888888888888888\n",
      "Validation at Epoch 4 , AUROC: <function auc at 0x7fcc29f8f6a8> , AUPRC: 0.5500271235285191 , F1: 0.4962168978562422\n",
      "Training at Epoch 4 iteration 2100 with loss 1.4983368\n",
      "Training at Epoch 4 iteration 2200 with loss 0.27089563\n",
      "Training at Epoch 4 iteration 2300 with loss 0.0076251095\n",
      "Training at Epoch 4 iteration 2400 with loss 0.123765476\n",
      "Training at Epoch 4 iteration 2500 with loss 0.04997635\n",
      "Training at Epoch 4 iteration 2600 with loss 0.50322706\n",
      "Training at Epoch 4 iteration 2700 with loss 0.07407936\n",
      "Training at Epoch 4 iteration 2800 with loss 0.015483122\n",
      "Training at Epoch 4 iteration 2900 with loss 0.42724758\n",
      "Training at Epoch 4 iteration 3000 with loss 0.16039713\n"
     ]
    },
    {
     "name": "stderr",
     "output_type": "stream",
     "text": [
      "/home/zdx/.pyenv/versions/miniconda3-4.7.10/lib/python3.7/site-packages/ipykernel_launcher.py:55: RuntimeWarning: invalid value encountered in true_divide\n"
     ]
    },
    {
     "name": "stdout",
     "output_type": "stream",
     "text": [
      "optimal threshold: 0.5011303424835205\n",
      "AUROC:0.8816612540542702\n",
      "AUPRC: 0.5425385939332611\n",
      "Confusion Matrix : \n",
      " [[4287 1430]\n",
      " [ 124  803]]\n",
      "Recall :  0.866235167206041\n",
      "Precision :  0.35960591133004927\n",
      "Accuracy :  0.7661047561709813\n",
      "Sensitivity :  0.7498688123141508\n",
      "Specificity :  0.866235167206041\n",
      "Validation at Epoch 4 , AUROC: <function auc at 0x7fcc29f8f6a8> , AUPRC: 0.5425385939332611 , F1: 0.5079063883617964\n",
      "Training at Epoch 4 iteration 3100 with loss 0.031135142\n",
      "Training at Epoch 4 iteration 3200 with loss 0.5174643\n",
      "Training at Epoch 4 iteration 3300 with loss 0.33858857\n",
      "Training at Epoch 4 iteration 3400 with loss 0.00857262\n",
      "Training at Epoch 4 iteration 3500 with loss 0.036658753\n",
      "Training at Epoch 4 iteration 3600 with loss 0.19566694\n",
      "Training at Epoch 4 iteration 3700 with loss 0.0042082244\n",
      "Training at Epoch 4 iteration 3800 with loss 0.5953647\n",
      "Training at Epoch 4 iteration 3900 with loss 0.06074442\n",
      "Training at Epoch 4 iteration 4000 with loss 0.004838483\n"
     ]
    },
    {
     "name": "stderr",
     "output_type": "stream",
     "text": [
      "/home/zdx/.pyenv/versions/miniconda3-4.7.10/lib/python3.7/site-packages/ipykernel_launcher.py:55: RuntimeWarning: invalid value encountered in true_divide\n"
     ]
    },
    {
     "name": "stdout",
     "output_type": "stream",
     "text": [
      "optimal threshold: 0.2696605324745178\n",
      "AUROC:0.8936388171389896\n",
      "AUPRC: 0.5525624227116942\n",
      "Confusion Matrix : \n",
      " [[4229 1488]\n",
      " [  95  832]]\n",
      "Recall :  0.8975188781014024\n",
      "Precision :  0.3586206896551724\n",
      "Accuracy :  0.7617399157134257\n",
      "Sensitivity :  0.7397236312751443\n",
      "Specificity :  0.8975188781014024\n",
      "Validation at Epoch 4 , AUROC: <function auc at 0x7fcc29f8f6a8> , AUPRC: 0.5525624227116942 , F1: 0.5511176255038476\n",
      "Training at Epoch 4 iteration 4100 with loss 0.116676226\n",
      "Training at Epoch 4 iteration 4200 with loss 0.14741606\n",
      "Training at Epoch 4 iteration 4300 with loss 0.01876565\n",
      "Training at Epoch 4 iteration 4400 with loss 0.5024167\n",
      "Training at Epoch 4 iteration 4500 with loss 0.7809876\n",
      "Training at Epoch 4 iteration 4600 with loss 0.06858866\n",
      "Training at Epoch 4 iteration 4700 with loss 0.2131209\n",
      "Training at Epoch 4 iteration 4800 with loss 0.060140595\n",
      "Training at Epoch 4 iteration 4900 with loss 0.41656435\n",
      "Training at Epoch 4 iteration 5000 with loss 0.16726872\n"
     ]
    },
    {
     "name": "stderr",
     "output_type": "stream",
     "text": [
      "/home/zdx/.pyenv/versions/miniconda3-4.7.10/lib/python3.7/site-packages/ipykernel_launcher.py:55: RuntimeWarning: invalid value encountered in true_divide\n"
     ]
    },
    {
     "name": "stdout",
     "output_type": "stream",
     "text": [
      "optimal threshold: 0.3779261112213135\n",
      "AUROC:0.8910333664864097\n",
      "AUPRC: 0.5678106902367185\n",
      "Confusion Matrix : \n",
      " [[4233 1484]\n",
      " [  89  838]]\n",
      "Recall :  0.9039913700107874\n",
      "Precision :  0.36089577950043067\n",
      "Accuracy :  0.7632450331125827\n",
      "Sensitivity :  0.7404232989330068\n",
      "Specificity :  0.9039913700107874\n",
      "Validation at Epoch 4 , AUROC: <function auc at 0x7fcc29f8f6a8> , AUPRC: 0.5678106902367185 , F1: 0.5485436893203883\n",
      "Training at Epoch 4 iteration 5100 with loss 0.24231091\n",
      "Training at Epoch 4 iteration 5200 with loss 0.3858145\n",
      "Training at Epoch 4 iteration 5300 with loss 1.046257\n",
      "Training at Epoch 4 iteration 5400 with loss 2.0003579\n",
      "Training at Epoch 4 iteration 5500 with loss 0.13209765\n",
      "Training at Epoch 4 iteration 5600 with loss 0.16467269\n",
      "Training at Epoch 4 iteration 5700 with loss 0.15691443\n",
      "Training at Epoch 4 iteration 5800 with loss 0.20922285\n",
      "Training at Epoch 4 iteration 5900 with loss 0.2648993\n",
      "Training at Epoch 4 iteration 6000 with loss 0.19933268\n"
     ]
    },
    {
     "name": "stderr",
     "output_type": "stream",
     "text": [
      "/home/zdx/.pyenv/versions/miniconda3-4.7.10/lib/python3.7/site-packages/ipykernel_launcher.py:55: RuntimeWarning: invalid value encountered in true_divide\n"
     ]
    },
    {
     "name": "stdout",
     "output_type": "stream",
     "text": [
      "optimal threshold: 0.3194834887981415\n",
      "AUROC:0.8994025842040025\n",
      "AUPRC: 0.606935669362068\n",
      "Confusion Matrix : \n",
      " [[4073 1644]\n",
      " [  66  861]]\n",
      "Recall :  0.9288025889967637\n",
      "Precision :  0.3437125748502994\n",
      "Accuracy :  0.74262492474413\n",
      "Sensitivity :  0.7124365926185062\n",
      "Specificity :  0.9288025889967637\n",
      "Validation at Epoch 4 , AUROC: <function auc at 0x7fcc29f8f6a8> , AUPRC: 0.606935669362068 , F1: 0.5421977264898382\n",
      "Training at Epoch 4 iteration 6100 with loss 0.17016482\n",
      "Training at Epoch 4 iteration 6200 with loss 0.008994057\n",
      "Training at Epoch 4 iteration 6300 with loss 0.25649184\n",
      "optimal threshold: 0.358875036239624\n",
      "AUROC:0.8974917065418738\n",
      "AUPRC: 0.5573803018979713\n",
      "Confusion Matrix : \n",
      " [[4100 1617]\n",
      " [  67  860]]\n",
      "Recall :  0.9277238403451996\n",
      "Precision :  0.3471941865159467\n",
      "Accuracy :  0.7465382299819386\n",
      "Sensitivity :  0.7171593493090782\n",
      "Specificity :  0.9277238403451996\n"
     ]
    },
    {
     "name": "stderr",
     "output_type": "stream",
     "text": [
      "/home/zdx/.pyenv/versions/miniconda3-4.7.10/lib/python3.7/site-packages/ipykernel_launcher.py:55: RuntimeWarning: invalid value encountered in true_divide\n"
     ]
    },
    {
     "name": "stdout",
     "output_type": "stream",
     "text": [
      "Training at Epoch 5 iteration 0 with loss 0.7979537\n"
     ]
    },
    {
     "name": "stderr",
     "output_type": "stream",
     "text": [
      "/home/zdx/.pyenv/versions/miniconda3-4.7.10/lib/python3.7/site-packages/ipykernel_launcher.py:55: RuntimeWarning: invalid value encountered in true_divide\n"
     ]
    },
    {
     "name": "stdout",
     "output_type": "stream",
     "text": [
      "optimal threshold: 0.5530219674110413\n",
      "AUROC:0.8926364884985997\n",
      "AUPRC: 0.5534021649234498\n",
      "Confusion Matrix : \n",
      " [[3900 1817]\n",
      " [  68  859]]\n",
      "Recall :  0.9266450916936354\n",
      "Precision :  0.3210014947683109\n",
      "Accuracy :  0.7162853702588802\n",
      "Sensitivity :  0.6821759664159525\n",
      "Specificity :  0.9266450916936354\n",
      "Validation at Epoch 5 , AUROC: <function auc at 0x7fcc29f8f6a8> , AUPRC: 0.5534021649234498 , F1: 0.4322627384689689\n",
      "Training at Epoch 5 iteration 100 with loss 0.20396817\n",
      "Training at Epoch 5 iteration 200 with loss 0.40768328\n",
      "Training at Epoch 5 iteration 300 with loss 0.28896087\n",
      "Training at Epoch 5 iteration 400 with loss 0.15431124\n",
      "Training at Epoch 5 iteration 500 with loss 0.224787\n",
      "Training at Epoch 5 iteration 600 with loss 0.078396186\n",
      "Training at Epoch 5 iteration 700 with loss 0.64671946\n",
      "Training at Epoch 5 iteration 800 with loss 0.28494656\n",
      "Training at Epoch 5 iteration 900 with loss 0.014299075\n",
      "Training at Epoch 5 iteration 1000 with loss 0.020648096\n"
     ]
    },
    {
     "name": "stderr",
     "output_type": "stream",
     "text": [
      "/home/zdx/.pyenv/versions/miniconda3-4.7.10/lib/python3.7/site-packages/ipykernel_launcher.py:55: RuntimeWarning: invalid value encountered in true_divide\n"
     ]
    },
    {
     "name": "stdout",
     "output_type": "stream",
     "text": [
      "optimal threshold: 0.4084503948688507\n",
      "AUROC:0.8992774818153395\n",
      "AUPRC: 0.5897752713672331\n",
      "Confusion Matrix : \n",
      " [[4145 1572]\n",
      " [  78  849]]\n",
      "Recall :  0.9158576051779935\n",
      "Precision :  0.3506815365551425\n",
      "Accuracy :  0.7516556291390728\n",
      "Sensitivity :  0.7250306104600315\n",
      "Specificity :  0.9158576051779935\n",
      "Validation at Epoch 5 , AUROC: <function auc at 0x7fcc29f8f6a8> , AUPRC: 0.5897752713672331 , F1: 0.526077097505669\n",
      "Training at Epoch 5 iteration 1100 with loss 0.78190184\n",
      "Training at Epoch 5 iteration 1200 with loss 0.09364598\n",
      "Training at Epoch 5 iteration 1300 with loss 0.077517696\n",
      "Training at Epoch 5 iteration 1400 with loss 0.0017725182\n",
      "Training at Epoch 5 iteration 1500 with loss 0.11462476\n",
      "Training at Epoch 5 iteration 1600 with loss 0.0676731\n",
      "Training at Epoch 5 iteration 1700 with loss 0.059578292\n",
      "Training at Epoch 5 iteration 1800 with loss 0.0063255164\n",
      "Training at Epoch 5 iteration 1900 with loss 0.13597775\n",
      "Training at Epoch 5 iteration 2000 with loss 0.5248598\n"
     ]
    },
    {
     "name": "stderr",
     "output_type": "stream",
     "text": [
      "/home/zdx/.pyenv/versions/miniconda3-4.7.10/lib/python3.7/site-packages/ipykernel_launcher.py:55: RuntimeWarning: invalid value encountered in true_divide\n"
     ]
    },
    {
     "name": "stdout",
     "output_type": "stream",
     "text": [
      "optimal threshold: 0.3761390149593353\n",
      "AUROC:0.8904921052467715\n",
      "AUPRC: 0.5412982522057573\n",
      "Confusion Matrix : \n",
      " [[4140 1577]\n",
      " [  84  843]]\n",
      "Recall :  0.9093851132686084\n",
      "Precision :  0.34834710743801656\n",
      "Accuracy :  0.75\n",
      "Sensitivity :  0.7241560258877033\n",
      "Specificity :  0.9093851132686084\n",
      "Validation at Epoch 5 , AUROC: <function auc at 0x7fcc29f8f6a8> , AUPRC: 0.5412982522057573 , F1: 0.5328031809145128\n",
      "Training at Epoch 5 iteration 2100 with loss 0.061026987\n",
      "Training at Epoch 5 iteration 2200 with loss 0.21765673\n",
      "Training at Epoch 5 iteration 2300 with loss 0.5692939\n",
      "Training at Epoch 5 iteration 2400 with loss 0.051346287\n",
      "Training at Epoch 5 iteration 2500 with loss 0.35495257\n",
      "Training at Epoch 5 iteration 2600 with loss 0.07707238\n",
      "Training at Epoch 5 iteration 2700 with loss 0.6293728\n",
      "Training at Epoch 5 iteration 2800 with loss 0.21955396\n",
      "Training at Epoch 5 iteration 2900 with loss 0.12801951\n",
      "Training at Epoch 5 iteration 3000 with loss 0.19164042\n"
     ]
    },
    {
     "name": "stderr",
     "output_type": "stream",
     "text": [
      "/home/zdx/.pyenv/versions/miniconda3-4.7.10/lib/python3.7/site-packages/ipykernel_launcher.py:55: RuntimeWarning: invalid value encountered in true_divide\n"
     ]
    },
    {
     "name": "stdout",
     "output_type": "stream",
     "text": [
      "optimal threshold: 0.32067033648490906\n",
      "AUROC:0.8977468172952259\n",
      "AUPRC: 0.5684072745955221\n",
      "Confusion Matrix : \n",
      " [[4154 1563]\n",
      " [  80  847]]\n",
      "Recall :  0.9137001078748651\n",
      "Precision :  0.3514522821576763\n",
      "Accuracy :  0.7527092113184829\n",
      "Sensitivity :  0.7266048626902222\n",
      "Specificity :  0.9137001078748651\n",
      "Validation at Epoch 5 , AUROC: <function auc at 0x7fcc29f8f6a8> , AUPRC: 0.5684072745955221 , F1: 0.5432183122651179\n",
      "Training at Epoch 5 iteration 3100 with loss 0.5268964\n",
      "Training at Epoch 5 iteration 3200 with loss 0.17320283\n",
      "Training at Epoch 5 iteration 3300 with loss 0.1471463\n",
      "Training at Epoch 5 iteration 3400 with loss 0.28275725\n",
      "Training at Epoch 5 iteration 3500 with loss 0.026873533\n",
      "Training at Epoch 5 iteration 3600 with loss 0.02994259\n",
      "Training at Epoch 5 iteration 3700 with loss 0.02412688\n",
      "Training at Epoch 5 iteration 3800 with loss 0.041974552\n",
      "Training at Epoch 5 iteration 3900 with loss 0.2661319\n",
      "Training at Epoch 5 iteration 4000 with loss 0.4111671\n"
     ]
    },
    {
     "name": "stderr",
     "output_type": "stream",
     "text": [
      "/home/zdx/.pyenv/versions/miniconda3-4.7.10/lib/python3.7/site-packages/ipykernel_launcher.py:55: RuntimeWarning: invalid value encountered in true_divide\n"
     ]
    },
    {
     "name": "stdout",
     "output_type": "stream",
     "text": [
      "optimal threshold: 0.3810177743434906\n",
      "AUROC:0.8969707296261893\n",
      "AUPRC: 0.5511933346737637\n",
      "Confusion Matrix : \n",
      " [[4208 1509]\n",
      " [  85  842]]\n",
      "Recall :  0.9083063646170443\n",
      "Precision :  0.35814547001276054\n",
      "Accuracy :  0.7600842865743528\n",
      "Sensitivity :  0.7360503760713661\n",
      "Specificity :  0.9083063646170443\n",
      "Validation at Epoch 5 , AUROC: <function auc at 0x7fcc29f8f6a8> , AUPRC: 0.5511933346737637 , F1: 0.5298408488063661\n",
      "Training at Epoch 5 iteration 4100 with loss 0.032403894\n",
      "Training at Epoch 5 iteration 4200 with loss 0.2686626\n",
      "Training at Epoch 5 iteration 4300 with loss 0.26133248\n",
      "Training at Epoch 5 iteration 4400 with loss 1.1889049\n",
      "Training at Epoch 5 iteration 4500 with loss 0.13387981\n",
      "Training at Epoch 5 iteration 4600 with loss 0.013393676\n",
      "Training at Epoch 5 iteration 4700 with loss 0.7316544\n",
      "Training at Epoch 5 iteration 4800 with loss 0.56104124\n",
      "Training at Epoch 5 iteration 4900 with loss 0.243748\n",
      "Training at Epoch 5 iteration 5000 with loss 0.12490145\n"
     ]
    },
    {
     "name": "stderr",
     "output_type": "stream",
     "text": [
      "/home/zdx/.pyenv/versions/miniconda3-4.7.10/lib/python3.7/site-packages/ipykernel_launcher.py:55: RuntimeWarning: invalid value encountered in true_divide\n"
     ]
    },
    {
     "name": "stdout",
     "output_type": "stream",
     "text": [
      "optimal threshold: 0.40288910269737244\n",
      "AUROC:0.8955529025546738\n",
      "AUPRC: 0.5756917981600771\n",
      "Confusion Matrix : \n",
      " [[4360 1357]\n",
      " [ 110  817]]\n",
      "Recall :  0.8813376483279396\n",
      "Precision :  0.37580496780128797\n",
      "Accuracy :  0.7791992775436484\n",
      "Sensitivity :  0.7626377470701416\n",
      "Specificity :  0.8813376483279396\n",
      "Validation at Epoch 5 , AUROC: <function auc at 0x7fcc29f8f6a8> , AUPRC: 0.5756917981600771 , F1: 0.5389302640487476\n",
      "Training at Epoch 5 iteration 5100 with loss 0.039696593\n",
      "Training at Epoch 5 iteration 5200 with loss 0.59819686\n",
      "Training at Epoch 5 iteration 5300 with loss 0.16099253\n",
      "Training at Epoch 5 iteration 5400 with loss 0.05985588\n",
      "Training at Epoch 5 iteration 5500 with loss 0.029346528\n",
      "Training at Epoch 5 iteration 5600 with loss 0.057092138\n",
      "Training at Epoch 5 iteration 5700 with loss 0.07719563\n",
      "Training at Epoch 5 iteration 5800 with loss 0.15800148\n",
      "Training at Epoch 5 iteration 5900 with loss 0.07138972\n",
      "Training at Epoch 5 iteration 6000 with loss 0.06163371\n"
     ]
    },
    {
     "name": "stderr",
     "output_type": "stream",
     "text": [
      "/home/zdx/.pyenv/versions/miniconda3-4.7.10/lib/python3.7/site-packages/ipykernel_launcher.py:55: RuntimeWarning: invalid value encountered in true_divide\n"
     ]
    },
    {
     "name": "stdout",
     "output_type": "stream",
     "text": [
      "optimal threshold: 0.26001766324043274\n",
      "AUROC:0.894912295300509\n",
      "AUPRC: 0.5791959067179987\n",
      "Confusion Matrix : \n",
      " [[4083 1634]\n",
      " [  76  851]]\n",
      "Recall :  0.918015102481122\n",
      "Precision :  0.34245472837022134\n",
      "Accuracy :  0.74262492474413\n",
      "Sensitivity :  0.7141857617631625\n",
      "Specificity :  0.918015102481122\n",
      "Validation at Epoch 5 , AUROC: <function auc at 0x7fcc29f8f6a8> , AUPRC: 0.5791959067179987 , F1: 0.5416666666666666\n",
      "Training at Epoch 5 iteration 6100 with loss 0.075753175\n",
      "Training at Epoch 5 iteration 6200 with loss 0.18479128\n",
      "Training at Epoch 5 iteration 6300 with loss 0.06737199\n",
      "optimal threshold: 0.44729921221733093\n",
      "AUROC:0.9015521564689352\n",
      "AUPRC: 0.5753011953073262\n",
      "Confusion Matrix : \n",
      " [[4439 1278]\n",
      " [  97  830]]\n",
      "Recall :  0.895361380798274\n",
      "Precision :  0.3937381404174573\n",
      "Accuracy :  0.793046357615894\n",
      "Sensitivity :  0.7764561833129263\n",
      "Specificity :  0.895361380798274\n"
     ]
    },
    {
     "name": "stderr",
     "output_type": "stream",
     "text": [
      "/home/zdx/.pyenv/versions/miniconda3-4.7.10/lib/python3.7/site-packages/ipykernel_launcher.py:55: RuntimeWarning: invalid value encountered in true_divide\n"
     ]
    },
    {
     "name": "stdout",
     "output_type": "stream",
     "text": [
      "Training at Epoch 6 iteration 0 with loss 0.7305846\n"
     ]
    },
    {
     "name": "stderr",
     "output_type": "stream",
     "text": [
      "/home/zdx/.pyenv/versions/miniconda3-4.7.10/lib/python3.7/site-packages/ipykernel_launcher.py:55: RuntimeWarning: invalid value encountered in true_divide\n"
     ]
    },
    {
     "name": "stdout",
     "output_type": "stream",
     "text": [
      "optimal threshold: 0.5110688805580139\n",
      "AUROC:0.8963701249457747\n",
      "AUPRC: 0.5701072918912707\n",
      "Confusion Matrix : \n",
      " [[4225 1492]\n",
      " [  85  842]]\n",
      "Recall :  0.9083063646170443\n",
      "Precision :  0.3607540702656384\n",
      "Accuracy :  0.7626429861529199\n",
      "Sensitivity :  0.7390239636172818\n",
      "Specificity :  0.9083063646170443\n",
      "Validation at Epoch 6 , AUROC: <function auc at 0x7fcc29f8f6a8> , AUPRC: 0.5701072918912707 , F1: 0.5116560702391765\n",
      "Training at Epoch 6 iteration 100 with loss 0.5879717\n",
      "Training at Epoch 6 iteration 200 with loss 0.016795335\n",
      "Training at Epoch 6 iteration 300 with loss 0.47298306\n",
      "Training at Epoch 6 iteration 400 with loss 0.011863946\n",
      "Training at Epoch 6 iteration 500 with loss 0.0009857853\n",
      "Training at Epoch 6 iteration 600 with loss 0.5431092\n",
      "Training at Epoch 6 iteration 700 with loss 0.23872137\n",
      "Training at Epoch 6 iteration 800 with loss 0.019759763\n",
      "Training at Epoch 6 iteration 900 with loss 0.042740505\n",
      "Training at Epoch 6 iteration 1000 with loss 0.13102168\n"
     ]
    },
    {
     "name": "stderr",
     "output_type": "stream",
     "text": [
      "/home/zdx/.pyenv/versions/miniconda3-4.7.10/lib/python3.7/site-packages/ipykernel_launcher.py:55: RuntimeWarning: invalid value encountered in true_divide\n"
     ]
    },
    {
     "name": "stdout",
     "output_type": "stream",
     "text": [
      "optimal threshold: 0.3869231045246124\n",
      "AUROC:0.8993465428624746\n",
      "AUPRC: 0.5606904920128926\n",
      "Confusion Matrix : \n",
      " [[4190 1527]\n",
      " [  77  850]]\n",
      "Recall :  0.9169363538295577\n",
      "Precision :  0.357593605384939\n",
      "Accuracy :  0.7585791691751956\n",
      "Sensitivity :  0.7329018716109847\n",
      "Specificity :  0.9169363538295577\n",
      "Validation at Epoch 6 , AUROC: <function auc at 0x7fcc29f8f6a8> , AUPRC: 0.5606904920128926 , F1: 0.5306384343920436\n",
      "Training at Epoch 6 iteration 1100 with loss 0.073866524\n",
      "Training at Epoch 6 iteration 1200 with loss 0.067699365\n",
      "Training at Epoch 6 iteration 1300 with loss 1.7568057\n",
      "Training at Epoch 6 iteration 1400 with loss 0.26387155\n",
      "Training at Epoch 6 iteration 1500 with loss 0.11287297\n",
      "Training at Epoch 6 iteration 1600 with loss 0.054941982\n",
      "Training at Epoch 6 iteration 1700 with loss 0.01122796\n",
      "Training at Epoch 6 iteration 1800 with loss 0.029424252\n",
      "Training at Epoch 6 iteration 1900 with loss 0.51392215\n",
      "Training at Epoch 6 iteration 2000 with loss 0.024385374\n"
     ]
    },
    {
     "name": "stderr",
     "output_type": "stream",
     "text": [
      "/home/zdx/.pyenv/versions/miniconda3-4.7.10/lib/python3.7/site-packages/ipykernel_launcher.py:55: RuntimeWarning: invalid value encountered in true_divide\n"
     ]
    },
    {
     "name": "stdout",
     "output_type": "stream",
     "text": [
      "optimal threshold: 0.23726771771907806\n",
      "AUROC:0.8997887411246649\n",
      "AUPRC: 0.5618339086019728\n",
      "Confusion Matrix : \n",
      " [[4136 1581]\n",
      " [  75  852]]\n",
      "Recall :  0.919093851132686\n",
      "Precision :  0.35018495684340323\n",
      "Accuracy :  0.7507525586995786\n",
      "Sensitivity :  0.7234563582298408\n",
      "Specificity :  0.919093851132686\n",
      "Validation at Epoch 6 , AUROC: <function auc at 0x7fcc29f8f6a8> , AUPRC: 0.5618339086019728 , F1: 0.555\n",
      "Training at Epoch 6 iteration 2100 with loss 0.043273646\n",
      "Training at Epoch 6 iteration 2200 with loss 1.58394\n",
      "Training at Epoch 6 iteration 2300 with loss 0.4574933\n",
      "Training at Epoch 6 iteration 2400 with loss 0.0035318816\n",
      "Training at Epoch 6 iteration 2500 with loss 1.1540561\n",
      "Training at Epoch 6 iteration 2600 with loss 0.13407513\n",
      "Training at Epoch 6 iteration 2700 with loss 0.0013214254\n",
      "Training at Epoch 6 iteration 2800 with loss 0.32256657\n",
      "Training at Epoch 6 iteration 2900 with loss 0.01071505\n",
      "Training at Epoch 6 iteration 3000 with loss 0.096674785\n"
     ]
    },
    {
     "name": "stderr",
     "output_type": "stream",
     "text": [
      "/home/zdx/.pyenv/versions/miniconda3-4.7.10/lib/python3.7/site-packages/ipykernel_launcher.py:55: RuntimeWarning: invalid value encountered in true_divide\n"
     ]
    },
    {
     "name": "stdout",
     "output_type": "stream",
     "text": [
      "optimal threshold: 0.6531026363372803\n",
      "AUROC:0.892038997226048\n",
      "AUPRC: 0.5455606251677139\n",
      "Confusion Matrix : \n",
      " [[4262 1455]\n",
      " [  96  831]]\n",
      "Recall :  0.8964401294498382\n",
      "Precision :  0.36351706036745407\n",
      "Accuracy :  0.7665562913907285\n",
      "Sensitivity :  0.7454958894525101\n",
      "Specificity :  0.8964401294498382\n",
      "Validation at Epoch 6 , AUROC: <function auc at 0x7fcc29f8f6a8> , AUPRC: 0.5455606251677139 , F1: 0.4816258351893095\n",
      "Training at Epoch 6 iteration 3100 with loss 0.3750579\n",
      "Training at Epoch 6 iteration 3200 with loss 0.033304177\n",
      "Training at Epoch 6 iteration 3300 with loss 0.015139622\n",
      "Training at Epoch 6 iteration 3400 with loss 0.10056826\n",
      "Training at Epoch 6 iteration 3500 with loss 0.030015774\n",
      "Training at Epoch 6 iteration 3600 with loss 1.0238904\n",
      "Training at Epoch 6 iteration 3700 with loss 0.8288703\n",
      "Training at Epoch 6 iteration 3800 with loss 0.20829886\n",
      "Training at Epoch 6 iteration 3900 with loss 0.12316461\n",
      "Training at Epoch 6 iteration 4000 with loss 0.13900322\n"
     ]
    },
    {
     "name": "stderr",
     "output_type": "stream",
     "text": [
      "/home/zdx/.pyenv/versions/miniconda3-4.7.10/lib/python3.7/site-packages/ipykernel_launcher.py:55: RuntimeWarning: invalid value encountered in true_divide\n"
     ]
    },
    {
     "name": "stdout",
     "output_type": "stream",
     "text": [
      "optimal threshold: 0.3511364758014679\n",
      "AUROC:0.9010407084682241\n",
      "AUPRC: 0.5658670462821432\n",
      "Confusion Matrix : \n",
      " [[4286 1431]\n",
      " [  84  843]]\n",
      "Recall :  0.9093851132686084\n",
      "Precision :  0.370712401055409\n",
      "Accuracy :  0.7719747140276941\n",
      "Sensitivity :  0.7496938953996851\n",
      "Specificity :  0.9093851132686084\n",
      "Validation at Epoch 6 , AUROC: <function auc at 0x7fcc29f8f6a8> , AUPRC: 0.5658670462821432 , F1: 0.5465076660988075\n",
      "Training at Epoch 6 iteration 4100 with loss 0.66457844\n",
      "Training at Epoch 6 iteration 4200 with loss 0.049201924\n",
      "Training at Epoch 6 iteration 4300 with loss 0.10364516\n",
      "Training at Epoch 6 iteration 4400 with loss 0.21817578\n",
      "Training at Epoch 6 iteration 4500 with loss 0.055037428\n",
      "Training at Epoch 6 iteration 4600 with loss 0.19609642\n",
      "Training at Epoch 6 iteration 4700 with loss 0.004518964\n",
      "Training at Epoch 6 iteration 4800 with loss 0.014115059\n",
      "Training at Epoch 6 iteration 4900 with loss 0.0025029667\n",
      "Training at Epoch 6 iteration 5000 with loss 0.05945655\n"
     ]
    },
    {
     "name": "stderr",
     "output_type": "stream",
     "text": [
      "/home/zdx/.pyenv/versions/miniconda3-4.7.10/lib/python3.7/site-packages/ipykernel_launcher.py:55: RuntimeWarning: invalid value encountered in true_divide\n"
     ]
    },
    {
     "name": "stdout",
     "output_type": "stream",
     "text": [
      "optimal threshold: 0.18235978484153748\n",
      "AUROC:0.9051714459364273\n",
      "AUPRC: 0.5970667256427162\n",
      "Confusion Matrix : \n",
      " [[4354 1363]\n",
      " [  94  833]]\n",
      "Recall :  0.8985976267529665\n",
      "Precision :  0.37932604735883424\n",
      "Accuracy :  0.7807043949428055\n",
      "Sensitivity :  0.7615882455833479\n",
      "Specificity :  0.8985976267529665\n",
      "Validation at Epoch 6 , AUROC: <function auc at 0x7fcc29f8f6a8> , AUPRC: 0.5970667256427162 , F1: 0.5831399845320959\n",
      "Training at Epoch 6 iteration 5100 with loss 0.10386684\n",
      "Training at Epoch 6 iteration 5200 with loss 0.064573705\n",
      "Training at Epoch 6 iteration 5300 with loss 0.21769573\n",
      "Training at Epoch 6 iteration 5400 with loss 0.034536127\n",
      "Training at Epoch 6 iteration 5500 with loss 4.3632157e-05\n",
      "Training at Epoch 6 iteration 5600 with loss 0.18724874\n",
      "Training at Epoch 6 iteration 5700 with loss 0.06375106\n",
      "Training at Epoch 6 iteration 5800 with loss 2.364107\n",
      "Training at Epoch 6 iteration 5900 with loss 0.06663207\n",
      "Training at Epoch 6 iteration 6000 with loss 0.83886045\n"
     ]
    },
    {
     "name": "stderr",
     "output_type": "stream",
     "text": [
      "/home/zdx/.pyenv/versions/miniconda3-4.7.10/lib/python3.7/site-packages/ipykernel_launcher.py:55: RuntimeWarning: invalid value encountered in true_divide\n"
     ]
    },
    {
     "name": "stdout",
     "output_type": "stream",
     "text": [
      "optimal threshold: 0.27234455943107605\n",
      "AUROC:0.8925261983837073\n",
      "AUPRC: 0.5548953463816978\n",
      "Confusion Matrix : \n",
      " [[4065 1652]\n",
      " [  71  856]]\n",
      "Recall :  0.9234088457389428\n",
      "Precision :  0.3413078149920255\n",
      "Accuracy :  0.7406682721252258\n",
      "Sensitivity :  0.7110372573027812\n",
      "Specificity :  0.9234088457389428\n",
      "Validation at Epoch 6 , AUROC: <function auc at 0x7fcc29f8f6a8> , AUPRC: 0.5548953463816978 , F1: 0.5315614617940199\n",
      "Training at Epoch 6 iteration 6100 with loss 0.07829732\n",
      "Training at Epoch 6 iteration 6200 with loss 0.079792775\n",
      "Training at Epoch 6 iteration 6300 with loss 0.3495276\n",
      "optimal threshold: 0.4124714434146881\n",
      "AUROC:0.897777762682467\n",
      "AUPRC: 0.5592152009905665\n",
      "Confusion Matrix : \n",
      " [[4385 1332]\n",
      " [ 101  826]]\n",
      "Recall :  0.8910463861920173\n",
      "Precision :  0.3827618164967563\n",
      "Accuracy :  0.7843166767007826\n",
      "Sensitivity :  0.7670106699317824\n",
      "Specificity :  0.8910463861920173\n"
     ]
    },
    {
     "name": "stderr",
     "output_type": "stream",
     "text": [
      "/home/zdx/.pyenv/versions/miniconda3-4.7.10/lib/python3.7/site-packages/ipykernel_launcher.py:55: RuntimeWarning: invalid value encountered in true_divide\n"
     ]
    },
    {
     "name": "stdout",
     "output_type": "stream",
     "text": [
      "Training at Epoch 7 iteration 0 with loss 0.4672717\n"
     ]
    },
    {
     "name": "stderr",
     "output_type": "stream",
     "text": [
      "/home/zdx/.pyenv/versions/miniconda3-4.7.10/lib/python3.7/site-packages/ipykernel_launcher.py:55: RuntimeWarning: invalid value encountered in true_divide\n"
     ]
    },
    {
     "name": "stdout",
     "output_type": "stream",
     "text": [
      "optimal threshold: 0.4669082462787628\n",
      "AUROC:0.8899695244543092\n",
      "AUPRC: 0.5303785551561512\n",
      "Confusion Matrix : \n",
      " [[4149 1568]\n",
      " [  86  841]]\n",
      "Recall :  0.9072276159654801\n",
      "Precision :  0.34910751349107516\n",
      "Accuracy :  0.75105358217941\n",
      "Sensitivity :  0.725730278117894\n",
      "Specificity :  0.9072276159654801\n",
      "Validation at Epoch 7 , AUROC: <function auc at 0x7fcc29f8f6a8> , AUPRC: 0.5303785551561512 , F1: 0.5214899713467049\n",
      "Training at Epoch 7 iteration 100 with loss 0.20586394\n",
      "Training at Epoch 7 iteration 200 with loss 0.037921723\n",
      "Training at Epoch 7 iteration 300 with loss 0.24701737\n",
      "Training at Epoch 7 iteration 400 with loss 0.053046662\n",
      "Training at Epoch 7 iteration 500 with loss 0.036842488\n",
      "Training at Epoch 7 iteration 600 with loss 0.08918174\n",
      "Training at Epoch 7 iteration 700 with loss 0.0002818986\n",
      "Training at Epoch 7 iteration 800 with loss 0.00085647445\n",
      "Training at Epoch 7 iteration 900 with loss 0.0014267215\n",
      "Training at Epoch 7 iteration 1000 with loss 0.052862637\n"
     ]
    },
    {
     "name": "stderr",
     "output_type": "stream",
     "text": [
      "/home/zdx/.pyenv/versions/miniconda3-4.7.10/lib/python3.7/site-packages/ipykernel_launcher.py:55: RuntimeWarning: invalid value encountered in true_divide\n"
     ]
    },
    {
     "name": "stdout",
     "output_type": "stream",
     "text": [
      "optimal threshold: 0.3856850564479828\n",
      "AUROC:0.907288468937341\n",
      "AUPRC: 0.5939823979949204\n",
      "Confusion Matrix : \n",
      " [[4244 1473]\n",
      " [  69  858]]\n",
      "Recall :  0.9255663430420712\n",
      "Precision :  0.3680823680823681\n",
      "Accuracy :  0.7679108970499698\n",
      "Sensitivity :  0.7423473849921287\n",
      "Specificity :  0.9255663430420712\n",
      "Validation at Epoch 7 , AUROC: <function auc at 0x7fcc29f8f6a8> , AUPRC: 0.5939823979949204 , F1: 0.5453359425962166\n",
      "Training at Epoch 7 iteration 1100 with loss 0.7831648\n",
      "Training at Epoch 7 iteration 1200 with loss 0.18531644\n",
      "Training at Epoch 7 iteration 1300 with loss 0.06995426\n",
      "Training at Epoch 7 iteration 1400 with loss 0.055863507\n",
      "Training at Epoch 7 iteration 1500 with loss 0.10382653\n",
      "Training at Epoch 7 iteration 1600 with loss 0.0073755477\n",
      "Training at Epoch 7 iteration 1700 with loss 0.102141164\n",
      "Training at Epoch 7 iteration 1800 with loss 0.41833118\n",
      "Training at Epoch 7 iteration 1900 with loss 0.2889146\n",
      "Training at Epoch 7 iteration 2000 with loss 0.03135193\n"
     ]
    },
    {
     "name": "stderr",
     "output_type": "stream",
     "text": [
      "/home/zdx/.pyenv/versions/miniconda3-4.7.10/lib/python3.7/site-packages/ipykernel_launcher.py:55: RuntimeWarning: invalid value encountered in true_divide\n"
     ]
    },
    {
     "name": "stdout",
     "output_type": "stream",
     "text": [
      "optimal threshold: 0.5905559659004211\n",
      "AUROC:0.9079653992832368\n",
      "AUPRC: 0.5921903140765645\n",
      "Confusion Matrix : \n",
      " [[4609 1108]\n",
      " [ 110  817]]\n",
      "Recall :  0.8813376483279396\n",
      "Precision :  0.4244155844155844\n",
      "Accuracy :  0.8166767007826611\n",
      "Sensitivity :  0.8061920587720832\n",
      "Specificity :  0.8813376483279396\n",
      "Validation at Epoch 7 , AUROC: <function auc at 0x7fcc29f8f6a8> , AUPRC: 0.5921903140765645 , F1: 0.5488248924197285\n",
      "Training at Epoch 7 iteration 2100 with loss 0.0072987983\n",
      "Training at Epoch 7 iteration 2200 with loss 0.001153808\n",
      "Training at Epoch 7 iteration 2300 with loss 0.072918855\n",
      "Training at Epoch 7 iteration 2400 with loss 0.1162308\n",
      "Training at Epoch 7 iteration 2500 with loss 0.022466527\n",
      "Training at Epoch 7 iteration 2600 with loss 0.09169103\n",
      "Training at Epoch 7 iteration 2700 with loss 0.003727767\n",
      "Training at Epoch 7 iteration 2800 with loss 0.39494213\n",
      "Training at Epoch 7 iteration 2900 with loss 0.016258152\n",
      "Training at Epoch 7 iteration 3000 with loss 0.20394829\n"
     ]
    },
    {
     "name": "stderr",
     "output_type": "stream",
     "text": [
      "/home/zdx/.pyenv/versions/miniconda3-4.7.10/lib/python3.7/site-packages/ipykernel_launcher.py:55: RuntimeWarning: invalid value encountered in true_divide\n"
     ]
    },
    {
     "name": "stdout",
     "output_type": "stream",
     "text": [
      "optimal threshold: 0.3239322006702423\n",
      "AUROC:0.907548580012412\n",
      "AUPRC: 0.5694256484420248\n",
      "Confusion Matrix : \n",
      " [[4376 1341]\n",
      " [  74  853]]\n",
      "Recall :  0.9201725997842503\n",
      "Precision :  0.3887876025524157\n",
      "Accuracy :  0.7870258880192655\n",
      "Sensitivity :  0.7654364177015918\n",
      "Specificity :  0.9201725997842503\n",
      "Validation at Epoch 7 , AUROC: <function auc at 0x7fcc29f8f6a8> , AUPRC: 0.5694256484420248 , F1: 0.5704225352112675\n",
      "Training at Epoch 7 iteration 3100 with loss 0.123137034\n",
      "Training at Epoch 7 iteration 3200 with loss 0.031444736\n",
      "Training at Epoch 7 iteration 3300 with loss 0.011026282\n",
      "Training at Epoch 7 iteration 3400 with loss 0.09456867\n",
      "Training at Epoch 7 iteration 3500 with loss 0.019513918\n",
      "Training at Epoch 7 iteration 3600 with loss 0.0039845197\n",
      "Training at Epoch 7 iteration 3700 with loss 0.014378868\n",
      "Training at Epoch 7 iteration 3800 with loss 0.00019515152\n",
      "Training at Epoch 7 iteration 3900 with loss 0.10199049\n",
      "Training at Epoch 7 iteration 4000 with loss 0.08245758\n"
     ]
    },
    {
     "name": "stderr",
     "output_type": "stream",
     "text": [
      "/home/zdx/.pyenv/versions/miniconda3-4.7.10/lib/python3.7/site-packages/ipykernel_launcher.py:55: RuntimeWarning: invalid value encountered in true_divide\n"
     ]
    },
    {
     "name": "stdout",
     "output_type": "stream",
     "text": [
      "optimal threshold: 0.2642158567905426\n",
      "AUROC:0.9051493690443102\n",
      "AUPRC: 0.587976063169527\n",
      "Confusion Matrix : \n",
      " [[4051 1666]\n",
      " [  57  870]]\n",
      "Recall :  0.9385113268608414\n",
      "Precision :  0.3430599369085173\n",
      "Accuracy :  0.7406682721252258\n",
      "Sensitivity :  0.7085884205002624\n",
      "Specificity :  0.9385113268608414\n",
      "Validation at Epoch 7 , AUROC: <function auc at 0x7fcc29f8f6a8> , AUPRC: 0.587976063169527 , F1: 0.5397141907610501\n",
      "Training at Epoch 7 iteration 4100 with loss 0.7158226\n",
      "Training at Epoch 7 iteration 4200 with loss 0.0057543954\n",
      "Training at Epoch 7 iteration 4300 with loss 0.042856894\n",
      "Training at Epoch 7 iteration 4400 with loss 0.26178154\n",
      "Training at Epoch 7 iteration 4500 with loss 0.24697421\n",
      "Training at Epoch 7 iteration 4600 with loss 0.2545448\n",
      "Training at Epoch 7 iteration 4700 with loss 0.40691474\n",
      "Training at Epoch 7 iteration 4800 with loss 0.0020310727\n",
      "Training at Epoch 7 iteration 4900 with loss 0.80714107\n",
      "Training at Epoch 7 iteration 5000 with loss 0.08708707\n"
     ]
    },
    {
     "name": "stderr",
     "output_type": "stream",
     "text": [
      "/home/zdx/.pyenv/versions/miniconda3-4.7.10/lib/python3.7/site-packages/ipykernel_launcher.py:55: RuntimeWarning: invalid value encountered in true_divide\n"
     ]
    },
    {
     "name": "stdout",
     "output_type": "stream",
     "text": [
      "optimal threshold: 0.5252820253372192\n",
      "AUROC:0.9069424089361222\n",
      "AUPRC: 0.6158923660753207\n",
      "Confusion Matrix : \n",
      " [[4417 1300]\n",
      " [  84  843]]\n",
      "Recall :  0.9093851132686084\n",
      "Precision :  0.3933737750816612\n",
      "Accuracy :  0.7916917519566526\n",
      "Sensitivity :  0.7726080111946825\n",
      "Specificity :  0.9093851132686084\n",
      "Validation at Epoch 7 , AUROC: <function auc at 0x7fcc29f8f6a8> , AUPRC: 0.6158923660753207 , F1: 0.5435271442338581\n",
      "Training at Epoch 7 iteration 5100 with loss 0.31426468\n",
      "Training at Epoch 7 iteration 5200 with loss 1.3093197\n",
      "Training at Epoch 7 iteration 5300 with loss 0.013717102\n",
      "Training at Epoch 7 iteration 5400 with loss 0.0016586386\n",
      "Training at Epoch 7 iteration 5500 with loss 0.0061399387\n",
      "Training at Epoch 7 iteration 5600 with loss 0.053156666\n",
      "Training at Epoch 7 iteration 5700 with loss 0.117634\n",
      "Training at Epoch 7 iteration 5800 with loss 0.028575627\n",
      "Training at Epoch 7 iteration 5900 with loss 0.0011688775\n",
      "Training at Epoch 7 iteration 6000 with loss 0.19083464\n"
     ]
    },
    {
     "name": "stderr",
     "output_type": "stream",
     "text": [
      "/home/zdx/.pyenv/versions/miniconda3-4.7.10/lib/python3.7/site-packages/ipykernel_launcher.py:55: RuntimeWarning: invalid value encountered in true_divide\n"
     ]
    },
    {
     "name": "stdout",
     "output_type": "stream",
     "text": [
      "optimal threshold: 0.34130409359931946\n",
      "AUROC:0.9070238292690153\n",
      "AUPRC: 0.590128202421906\n",
      "Confusion Matrix : \n",
      " [[4493 1224]\n",
      " [  91  836]]\n",
      "Recall :  0.9018338727076591\n",
      "Precision :  0.4058252427184466\n",
      "Accuracy :  0.8020770620108368\n",
      "Sensitivity :  0.7859016966940703\n",
      "Specificity :  0.9018338727076591\n",
      "Validation at Epoch 7 , AUROC: <function auc at 0x7fcc29f8f6a8> , AUPRC: 0.590128202421906 , F1: 0.5751391465677179\n",
      "Training at Epoch 7 iteration 6100 with loss 0.33723557\n",
      "Training at Epoch 7 iteration 6200 with loss 0.026614375\n",
      "Training at Epoch 7 iteration 6300 with loss 0.0232948\n",
      "optimal threshold: 0.5748237371444702\n",
      "AUROC:0.9075778271771825\n",
      "AUPRC: 0.5893510520945664\n",
      "Confusion Matrix : \n",
      " [[4451 1266]\n",
      " [  92  835]]\n",
      "Recall :  0.9007551240560949\n",
      "Precision :  0.3974297953355545\n",
      "Accuracy :  0.7956050571944612\n",
      "Sensitivity :  0.7785551862865139\n",
      "Specificity :  0.9007551240560949\n"
     ]
    },
    {
     "name": "stderr",
     "output_type": "stream",
     "text": [
      "/home/zdx/.pyenv/versions/miniconda3-4.7.10/lib/python3.7/site-packages/ipykernel_launcher.py:55: RuntimeWarning: invalid value encountered in true_divide\n"
     ]
    },
    {
     "name": "stdout",
     "output_type": "stream",
     "text": [
      "Training at Epoch 8 iteration 0 with loss 0.71838653\n"
     ]
    },
    {
     "name": "stderr",
     "output_type": "stream",
     "text": [
      "/home/zdx/.pyenv/versions/miniconda3-4.7.10/lib/python3.7/site-packages/ipykernel_launcher.py:55: RuntimeWarning: invalid value encountered in true_divide\n"
     ]
    },
    {
     "name": "stdout",
     "output_type": "stream",
     "text": [
      "optimal threshold: 0.37556570768356323\n",
      "AUROC:0.9089782002955283\n",
      "AUPRC: 0.5933618582025029\n",
      "Confusion Matrix : \n",
      " [[4303 1414]\n",
      " [  76  851]]\n",
      "Recall :  0.918015102481122\n",
      "Precision :  0.37571743929359824\n",
      "Accuracy :  0.775737507525587\n",
      "Sensitivity :  0.7526674829456008\n",
      "Specificity :  0.918015102481122\n",
      "Validation at Epoch 8 , AUROC: <function auc at 0x7fcc29f8f6a8> , AUPRC: 0.5933618582025029 , F1: 0.5518394648829431\n",
      "Training at Epoch 8 iteration 100 with loss 0.010714885\n",
      "Training at Epoch 8 iteration 200 with loss 0.38759992\n",
      "Training at Epoch 8 iteration 300 with loss 0.58744246\n",
      "Training at Epoch 8 iteration 400 with loss 0.100981556\n",
      "Training at Epoch 8 iteration 500 with loss 0.101162635\n",
      "Training at Epoch 8 iteration 600 with loss 0.00664121\n",
      "Training at Epoch 8 iteration 700 with loss 0.003533771\n",
      "Training at Epoch 8 iteration 800 with loss 0.002088219\n",
      "Training at Epoch 8 iteration 900 with loss 0.006088794\n",
      "Training at Epoch 8 iteration 1000 with loss 0.0008035209\n"
     ]
    },
    {
     "name": "stderr",
     "output_type": "stream",
     "text": [
      "/home/zdx/.pyenv/versions/miniconda3-4.7.10/lib/python3.7/site-packages/ipykernel_launcher.py:55: RuntimeWarning: invalid value encountered in true_divide\n"
     ]
    },
    {
     "name": "stdout",
     "output_type": "stream",
     "text": [
      "optimal threshold: 0.30494892597198486\n",
      "AUROC:0.9076957592931922\n",
      "AUPRC: 0.5700139460693889\n",
      "Confusion Matrix : \n",
      " [[4475 1242]\n",
      " [  98  829]]\n",
      "Recall :  0.8942826321467098\n",
      "Precision :  0.4002897151134718\n",
      "Accuracy :  0.798314268512944\n",
      "Sensitivity :  0.782753192233689\n",
      "Specificity :  0.8942826321467098\n",
      "Validation at Epoch 8 , AUROC: <function auc at 0x7fcc29f8f6a8> , AUPRC: 0.5700139460693889 , F1: 0.5791044776119404\n",
      "Training at Epoch 8 iteration 1100 with loss 0.0059059793\n",
      "Training at Epoch 8 iteration 1200 with loss 0.0006854922\n",
      "Training at Epoch 8 iteration 1300 with loss 0.022494998\n",
      "Training at Epoch 8 iteration 1400 with loss 0.06349697\n",
      "Training at Epoch 8 iteration 1500 with loss 0.036348373\n",
      "Training at Epoch 8 iteration 1600 with loss 0.0124844415\n",
      "Training at Epoch 8 iteration 1700 with loss 1.0424312\n",
      "Training at Epoch 8 iteration 1800 with loss 0.0045398604\n",
      "Training at Epoch 8 iteration 1900 with loss 0.003668253\n",
      "Training at Epoch 8 iteration 2000 with loss 0.49887845\n"
     ]
    },
    {
     "name": "stderr",
     "output_type": "stream",
     "text": [
      "/home/zdx/.pyenv/versions/miniconda3-4.7.10/lib/python3.7/site-packages/ipykernel_launcher.py:55: RuntimeWarning: invalid value encountered in true_divide\n"
     ]
    },
    {
     "name": "stdout",
     "output_type": "stream",
     "text": [
      "optimal threshold: 0.1865803450345993\n",
      "AUROC:0.9037788091648915\n",
      "AUPRC: 0.5774067234967295\n",
      "Confusion Matrix : \n",
      " [[4253 1464]\n",
      " [  74  853]]\n",
      "Recall :  0.9201725997842503\n",
      "Precision :  0.368148467846353\n",
      "Accuracy :  0.7685129440096328\n",
      "Sensitivity :  0.7439216372223194\n",
      "Specificity :  0.9201725997842503\n",
      "Validation at Epoch 8 , AUROC: <function auc at 0x7fcc29f8f6a8> , AUPRC: 0.5774067234967295 , F1: 0.5582541358676522\n",
      "Training at Epoch 8 iteration 2100 with loss 1.0828367\n",
      "Training at Epoch 8 iteration 2200 with loss 0.036312\n",
      "Training at Epoch 8 iteration 2300 with loss 0.13708173\n",
      "Training at Epoch 8 iteration 2400 with loss 0.6542884\n",
      "Training at Epoch 8 iteration 2500 with loss 0.16279005\n",
      "Training at Epoch 8 iteration 2600 with loss 0.0003627953\n",
      "Training at Epoch 8 iteration 2700 with loss 0.1492317\n",
      "Training at Epoch 8 iteration 2800 with loss 0.084598586\n",
      "Training at Epoch 8 iteration 2900 with loss 1.0176594\n",
      "Training at Epoch 8 iteration 3000 with loss 2.0441506\n"
     ]
    },
    {
     "name": "stderr",
     "output_type": "stream",
     "text": [
      "/home/zdx/.pyenv/versions/miniconda3-4.7.10/lib/python3.7/site-packages/ipykernel_launcher.py:55: RuntimeWarning: invalid value encountered in true_divide\n"
     ]
    },
    {
     "name": "stdout",
     "output_type": "stream",
     "text": [
      "optimal threshold: 0.4485262930393219\n",
      "AUROC:0.9001493303625763\n",
      "AUPRC: 0.5655272181458929\n",
      "Confusion Matrix : \n",
      " [[4491 1226]\n",
      " [ 109  818]]\n",
      "Recall :  0.8824163969795038\n",
      "Precision :  0.40019569471624267\n",
      "Accuracy :  0.7990668272125225\n",
      "Sensitivity :  0.785551862865139\n",
      "Specificity :  0.8824163969795038\n",
      "Validation at Epoch 8 , AUROC: <function auc at 0x7fcc29f8f6a8> , AUPRC: 0.5655272181458929 , F1: 0.5562868029095948\n",
      "Training at Epoch 8 iteration 3100 with loss 1.0000664\n",
      "Training at Epoch 8 iteration 3200 with loss 0.5944128\n",
      "Training at Epoch 8 iteration 3300 with loss 0.09277479\n",
      "Training at Epoch 8 iteration 3400 with loss 0.002920218\n",
      "Training at Epoch 8 iteration 3500 with loss 0.6472616\n",
      "Training at Epoch 8 iteration 3600 with loss 0.0047270916\n",
      "Training at Epoch 8 iteration 3700 with loss 0.019065779\n",
      "Training at Epoch 8 iteration 3800 with loss 0.0088767465\n",
      "Training at Epoch 8 iteration 3900 with loss 0.016253743\n",
      "Training at Epoch 8 iteration 4000 with loss 0.30658498\n"
     ]
    },
    {
     "name": "stderr",
     "output_type": "stream",
     "text": [
      "/home/zdx/.pyenv/versions/miniconda3-4.7.10/lib/python3.7/site-packages/ipykernel_launcher.py:55: RuntimeWarning: invalid value encountered in true_divide\n"
     ]
    },
    {
     "name": "stdout",
     "output_type": "stream",
     "text": [
      "optimal threshold: 0.3184000253677368\n",
      "AUROC:0.9046466008473377\n",
      "AUPRC: 0.5835181635634373\n",
      "Confusion Matrix : \n",
      " [[4175 1542]\n",
      " [  67  860]]\n",
      "Recall :  0.9277238403451996\n",
      "Precision :  0.35803497085761865\n",
      "Accuracy :  0.7578266104756171\n",
      "Sensitivity :  0.7302781178940003\n",
      "Specificity :  0.9277238403451996\n",
      "Validation at Epoch 8 , AUROC: <function auc at 0x7fcc29f8f6a8> , AUPRC: 0.5835181635634373 , F1: 0.5456382620410912\n",
      "Training at Epoch 8 iteration 4100 with loss 0.19033347\n",
      "Training at Epoch 8 iteration 4200 with loss 0.015079922\n",
      "Training at Epoch 8 iteration 4300 with loss 0.4961495\n",
      "Training at Epoch 8 iteration 4400 with loss 0.032296542\n",
      "Training at Epoch 8 iteration 4500 with loss 1.1092521\n",
      "Training at Epoch 8 iteration 4600 with loss 0.6517489\n",
      "Training at Epoch 8 iteration 4700 with loss 0.90531904\n",
      "Training at Epoch 8 iteration 4800 with loss 0.16256322\n",
      "Training at Epoch 8 iteration 4900 with loss 0.5945495\n",
      "Training at Epoch 8 iteration 5000 with loss 0.54439557\n"
     ]
    },
    {
     "name": "stderr",
     "output_type": "stream",
     "text": [
      "/home/zdx/.pyenv/versions/miniconda3-4.7.10/lib/python3.7/site-packages/ipykernel_launcher.py:55: RuntimeWarning: invalid value encountered in true_divide\n"
     ]
    },
    {
     "name": "stdout",
     "output_type": "stream",
     "text": [
      "optimal threshold: 0.196735680103302\n",
      "AUROC:0.9097015487222856\n",
      "AUPRC: 0.6079186496932018\n",
      "Confusion Matrix : \n",
      " [[4398 1319]\n",
      " [  82  845]]\n",
      "Recall :  0.9115426105717368\n",
      "Precision :  0.39048059149722736\n",
      "Accuracy :  0.7891330523780855\n",
      "Sensitivity :  0.7692845898198356\n",
      "Specificity :  0.9115426105717368\n",
      "Validation at Epoch 8 , AUROC: <function auc at 0x7fcc29f8f6a8> , AUPRC: 0.6079186496932018 , F1: 0.5903853794199444\n",
      "Training at Epoch 8 iteration 5100 with loss 0.030762661\n",
      "Training at Epoch 8 iteration 5200 with loss 0.14460792\n",
      "Training at Epoch 8 iteration 5300 with loss 1.3763034\n",
      "Training at Epoch 8 iteration 5400 with loss 0.07045002\n",
      "Training at Epoch 8 iteration 5500 with loss 0.54385895\n",
      "Training at Epoch 8 iteration 5600 with loss 0.3863346\n",
      "Training at Epoch 8 iteration 5700 with loss 0.0047868392\n",
      "Training at Epoch 8 iteration 5800 with loss 0.00557233\n",
      "Training at Epoch 8 iteration 5900 with loss 0.07558941\n",
      "Training at Epoch 8 iteration 6000 with loss 0.0336567\n"
     ]
    },
    {
     "name": "stderr",
     "output_type": "stream",
     "text": [
      "/home/zdx/.pyenv/versions/miniconda3-4.7.10/lib/python3.7/site-packages/ipykernel_launcher.py:55: RuntimeWarning: invalid value encountered in true_divide\n"
     ]
    },
    {
     "name": "stdout",
     "output_type": "stream",
     "text": [
      "optimal threshold: 0.2938641607761383\n",
      "AUROC:0.9074364973293566\n",
      "AUPRC: 0.5832249016466825\n",
      "Confusion Matrix : \n",
      " [[4236 1481]\n",
      " [  59  868]]\n",
      "Recall :  0.9363538295577131\n",
      "Precision :  0.36951894423158793\n",
      "Accuracy :  0.7682119205298014\n",
      "Sensitivity :  0.7409480496764037\n",
      "Specificity :  0.9363538295577131\n",
      "Validation at Epoch 8 , AUROC: <function auc at 0x7fcc29f8f6a8> , AUPRC: 0.5832249016466825 , F1: 0.5601898948796202\n",
      "Training at Epoch 8 iteration 6100 with loss 0.007997256\n",
      "Training at Epoch 8 iteration 6200 with loss 0.007503743\n",
      "Training at Epoch 8 iteration 6300 with loss 0.0408325\n",
      "optimal threshold: 0.0647692158818245\n",
      "AUROC:0.9113548626430492\n",
      "AUPRC: 0.6006334974162556\n",
      "Confusion Matrix : \n",
      " [[4234 1483]\n",
      " [  62  865]]\n",
      "Recall :  0.9331175836030206\n",
      "Precision :  0.36839863713798976\n",
      "Accuracy :  0.7674593618302228\n",
      "Sensitivity :  0.7405982158474724\n",
      "Specificity :  0.9331175836030206\n"
     ]
    },
    {
     "name": "stderr",
     "output_type": "stream",
     "text": [
      "/home/zdx/.pyenv/versions/miniconda3-4.7.10/lib/python3.7/site-packages/ipykernel_launcher.py:55: RuntimeWarning: invalid value encountered in true_divide\n"
     ]
    },
    {
     "name": "stdout",
     "output_type": "stream",
     "text": [
      "Training at Epoch 9 iteration 0 with loss 0.45633596\n"
     ]
    },
    {
     "name": "stderr",
     "output_type": "stream",
     "text": [
      "/home/zdx/.pyenv/versions/miniconda3-4.7.10/lib/python3.7/site-packages/ipykernel_launcher.py:55: RuntimeWarning: invalid value encountered in true_divide\n"
     ]
    },
    {
     "name": "stdout",
     "output_type": "stream",
     "text": [
      "optimal threshold: 0.48110300302505493\n",
      "AUROC:0.9068075889410999\n",
      "AUPRC: 0.5718387127288573\n",
      "Confusion Matrix : \n",
      " [[4471 1246]\n",
      " [  98  829]]\n",
      "Recall :  0.8942826321467098\n",
      "Precision :  0.39951807228915664\n",
      "Accuracy :  0.7977122215532811\n",
      "Sensitivity :  0.7820535245758264\n",
      "Specificity :  0.8942826321467098\n",
      "Validation at Epoch 9 , AUROC: <function auc at 0x7fcc29f8f6a8> , AUPRC: 0.5718387127288573 , F1: 0.5547594677584443\n",
      "Training at Epoch 9 iteration 100 with loss 0.083892696\n",
      "Training at Epoch 9 iteration 200 with loss 0.03730036\n",
      "Training at Epoch 9 iteration 300 with loss 0.10122657\n",
      "Training at Epoch 9 iteration 400 with loss 0.0065393797\n",
      "Training at Epoch 9 iteration 500 with loss 0.00191111\n",
      "Training at Epoch 9 iteration 600 with loss 0.005696434\n",
      "Training at Epoch 9 iteration 700 with loss 0.004152046\n",
      "Training at Epoch 9 iteration 800 with loss 0.0051885904\n",
      "Training at Epoch 9 iteration 900 with loss 0.26112747\n",
      "Training at Epoch 9 iteration 1000 with loss 0.027576705\n"
     ]
    },
    {
     "name": "stderr",
     "output_type": "stream",
     "text": [
      "/home/zdx/.pyenv/versions/miniconda3-4.7.10/lib/python3.7/site-packages/ipykernel_launcher.py:55: RuntimeWarning: invalid value encountered in true_divide\n"
     ]
    },
    {
     "name": "stdout",
     "output_type": "stream",
     "text": [
      "optimal threshold: 0.21793487668037415\n",
      "AUROC:0.9167200191559495\n",
      "AUPRC: 0.6239972299961172\n",
      "Confusion Matrix : \n",
      " [[4444 1273]\n",
      " [  81  846]]\n",
      "Recall :  0.912621359223301\n",
      "Precision :  0.3992449268522888\n",
      "Accuracy :  0.796207104154124\n",
      "Sensitivity :  0.7773307678852545\n",
      "Specificity :  0.912621359223301\n",
      "Validation at Epoch 9 , AUROC: <function auc at 0x7fcc29f8f6a8> , AUPRC: 0.6239972299961172 , F1: 0.6146534653465348\n",
      "Training at Epoch 9 iteration 1100 with loss 2.6613916e-05\n",
      "Training at Epoch 9 iteration 1200 with loss 0.025705012\n",
      "Training at Epoch 9 iteration 1300 with loss 0.005516417\n",
      "Training at Epoch 9 iteration 1400 with loss 0.0002685255\n",
      "Training at Epoch 9 iteration 1500 with loss 0.008933335\n",
      "Training at Epoch 9 iteration 1600 with loss 0.011910746\n",
      "Training at Epoch 9 iteration 1700 with loss 0.5609899\n",
      "Training at Epoch 9 iteration 1800 with loss 0.003133188\n",
      "Training at Epoch 9 iteration 1900 with loss 0.0010447073\n",
      "Training at Epoch 9 iteration 2000 with loss 0.19210577\n"
     ]
    },
    {
     "name": "stderr",
     "output_type": "stream",
     "text": [
      "/home/zdx/.pyenv/versions/miniconda3-4.7.10/lib/python3.7/site-packages/ipykernel_launcher.py:55: RuntimeWarning: invalid value encountered in true_divide\n"
     ]
    },
    {
     "name": "stdout",
     "output_type": "stream",
     "text": [
      "optimal threshold: 0.17236876487731934\n",
      "AUROC:0.9075667887311241\n",
      "AUPRC: 0.5933689574949254\n",
      "Confusion Matrix : \n",
      " [[4250 1467]\n",
      " [  73  854]]\n",
      "Recall :  0.9212513484358145\n",
      "Precision :  0.36794485135717364\n",
      "Accuracy :  0.7682119205298014\n",
      "Sensitivity :  0.7433968864789225\n",
      "Specificity :  0.9212513484358145\n",
      "Validation at Epoch 9 , AUROC: <function auc at 0x7fcc29f8f6a8> , AUPRC: 0.5933689574949254 , F1: 0.5738880918220947\n",
      "Training at Epoch 9 iteration 2100 with loss 0.13049673\n",
      "Training at Epoch 9 iteration 2200 with loss 0.4910329\n",
      "Training at Epoch 9 iteration 2300 with loss 0.004915669\n",
      "Training at Epoch 9 iteration 2400 with loss 0.01108012\n",
      "Training at Epoch 9 iteration 2500 with loss 0.020758694\n",
      "Training at Epoch 9 iteration 2600 with loss 0.0013409235\n",
      "Training at Epoch 9 iteration 2700 with loss 0.5945144\n",
      "Training at Epoch 9 iteration 2800 with loss 0.01163319\n",
      "Training at Epoch 9 iteration 2900 with loss 0.00032896697\n",
      "Training at Epoch 9 iteration 3000 with loss 7.597067e-05\n"
     ]
    },
    {
     "name": "stderr",
     "output_type": "stream",
     "text": [
      "/home/zdx/.pyenv/versions/miniconda3-4.7.10/lib/python3.7/site-packages/ipykernel_launcher.py:55: RuntimeWarning: invalid value encountered in true_divide\n"
     ]
    },
    {
     "name": "stdout",
     "output_type": "stream",
     "text": [
      "optimal threshold: 0.26528221368789673\n",
      "AUROC:0.9084876970386208\n",
      "AUPRC: 0.593913884716104\n",
      "Confusion Matrix : \n",
      " [[4473 1244]\n",
      " [ 103  824]]\n",
      "Recall :  0.8888888888888888\n",
      "Precision :  0.3984526112185687\n",
      "Accuracy :  0.797260686333534\n",
      "Sensitivity :  0.7824033584047577\n",
      "Specificity :  0.8888888888888888\n",
      "Validation at Epoch 9 , AUROC: <function auc at 0x7fcc29f8f6a8> , AUPRC: 0.593913884716104 , F1: 0.5781309118426031\n",
      "Training at Epoch 9 iteration 3100 with loss 0.0194804\n",
      "Training at Epoch 9 iteration 3200 with loss 0.01181175\n",
      "Training at Epoch 9 iteration 3300 with loss 0.016239025\n",
      "Training at Epoch 9 iteration 3400 with loss 0.0010959965\n",
      "Training at Epoch 9 iteration 3500 with loss 0.006603694\n",
      "Training at Epoch 9 iteration 3600 with loss 0.13272612\n",
      "Training at Epoch 9 iteration 3700 with loss 0.45164722\n",
      "Training at Epoch 9 iteration 3800 with loss 0.20577547\n",
      "Training at Epoch 9 iteration 3900 with loss 0.08491016\n",
      "Training at Epoch 9 iteration 4000 with loss 0.0038931617\n"
     ]
    }
   ],
   "source": [
    "def test(data_generator, model):\n",
    "    y_pred = []\n",
    "    y_label = []\n",
    "    model.eval()\n",
    "    loss_accumulate = 0.0\n",
    "    count = 0.0\n",
    "    for i, (d, p, d_mask, p_mask, label) in enumerate(data_generator):\n",
    "        score = model(d.long().cuda(), p.long().cuda(), d_mask.long().cuda(), p_mask.long().cuda())\n",
    "#         score = model(d.long(), p.long(), d_mask.long(), p_mask.long())\n",
    "        m = torch.nn.Sigmoid()\n",
    "        logits = torch.squeeze(m(score))\n",
    "        \n",
    "        loss_fct = torch.nn.BCELoss()            \n",
    "        \n",
    "        label = Variable(torch.from_numpy(np.array(label)).float()).cuda()\n",
    "#         label = Variable(torch.from_numpy(np.array(label)).float())\n",
    "\n",
    "        loss = loss_fct(logits, label)\n",
    "        \n",
    "        loss_accumulate += loss\n",
    "        count += 1\n",
    "        \n",
    "        logits = logits.detach().cpu().numpy()\n",
    "        \n",
    "        label_ids = label.to('cpu').numpy()\n",
    "        y_label = y_label + label_ids.flatten().tolist()\n",
    "        y_pred = y_pred + logits.flatten().tolist()\n",
    "        \n",
    "#     for i, (feature, mask, label) in enumerate(data_generator):\n",
    "#         score = model(feature.long().cuda(), mask.long().cuda())\n",
    "# #         score = model(feature.long(), mask.long())\n",
    "#         m = torch.nn.Sigmoid()\n",
    "#         logits = torch.squeeze(m(score))\n",
    "        \n",
    "#         loss_fct = torch.nn.BCELoss()            \n",
    "        \n",
    "# #         label = Variable(torch.from_numpy(np.array(label)).float()).cuda()\n",
    "#         label = Variable(torch.from_numpy(np.array(label)).float()).cuda()\n",
    "\n",
    "#         loss = loss_fct(logits, label)\n",
    "        \n",
    "#         loss_accumulate += loss\n",
    "#         count += 1\n",
    "        \n",
    "#         logits = logits.detach().cpu().numpy()\n",
    "        \n",
    "#         label_ids = label.to('cpu').numpy()\n",
    "#         y_label = y_label + label_ids.flatten().tolist()\n",
    "#         y_pred = y_pred + logits.flatten().tolist()\n",
    "        \n",
    "    loss = loss_accumulate/count\n",
    "    \n",
    "    fpr, tpr, thresholds = roc_curve(y_label, y_pred)\n",
    "\n",
    "    precision = tpr / (tpr + fpr)\n",
    "\n",
    "    f1 = 2 * precision * tpr / (tpr + precision + 0.00001)\n",
    "\n",
    "    thred_optim = thresholds[5:][np.argmax(f1[5:])]\n",
    "\n",
    "    print(\"optimal threshold: \" + str(thred_optim))\n",
    "\n",
    "    y_pred_s = [1 if i else 0 for i in (y_pred >= thred_optim)]\n",
    "\n",
    "    auc_k = auc(fpr, tpr)\n",
    "    print(\"AUROC:\" + str(auc_k))\n",
    "    print(\"AUPRC: \"+ str(average_precision_score(y_label, y_pred)))\n",
    "\n",
    "    cm1 = confusion_matrix(y_label, y_pred_s)\n",
    "    print('Confusion Matrix : \\n', cm1)\n",
    "    print('Recall : ', recall_score(y_label, y_pred_s))\n",
    "    print('Precision : ', precision_score(y_label, y_pred_s))\n",
    "\n",
    "    total1=sum(sum(cm1))\n",
    "    #####from confusion matrix calculate accuracy\n",
    "    accuracy1=(cm1[0,0]+cm1[1,1])/total1\n",
    "    print ('Accuracy : ', accuracy1)\n",
    "\n",
    "    sensitivity1 = cm1[0,0]/(cm1[0,0]+cm1[0,1])\n",
    "    print('Sensitivity : ', sensitivity1 )\n",
    "\n",
    "    specificity1 = cm1[1,1]/(cm1[1,0]+cm1[1,1])\n",
    "    print('Specificity : ', specificity1)\n",
    "\n",
    "    outputs = np.asarray([1 if i else 0 for i in (np.asarray(y_pred) >= 0.5)])\n",
    "    return roc_auc_score(y_label, y_pred), average_precision_score(y_label, y_pred), f1_score(y_label, outputs), y_pred, loss.item()\n",
    "\n",
    "max_auc = 0\n",
    "model_max = copy.deepcopy(model)\n",
    "\n",
    "for epo in range(train_epoch):\n",
    "    model.train()\n",
    "\n",
    "    for i, (d, p, d_mask, p_mask, label) in enumerate(train_gen):\n",
    "        score = model(d.long().cuda(), p.long().cuda(), d_mask.long().cuda(), p_mask.long().cuda())\n",
    "\n",
    "#         score = model(d.long(), p.long(), d_mask.long(), p_mask.long())\n",
    "        label = Variable(torch.from_numpy(np.array(label)).float()).cuda()\n",
    "#         label = Variable(torch.from_numpy(np.array(label)).float())\n",
    "        loss_fct = torch.nn.BCELoss()\n",
    "        m = torch.nn.Sigmoid()\n",
    "        n = torch.squeeze(m(score))\n",
    "\n",
    "        loss = loss_fct(n, label)\n",
    "        loss_history.append(loss)\n",
    "\n",
    "        opt.zero_grad()\n",
    "        loss.backward()\n",
    "        opt.step()\n",
    "\n",
    "        if (i % 100 == 0):\n",
    "            print('Training at Epoch ' + str(epo + 1) + ' iteration ' + str(i) + ' with loss ' + str(loss.cpu().detach().numpy()))\n",
    "            \n",
    "        if (i % 1000 == 0):\n",
    "            # every epoch test\n",
    "            with torch.set_grad_enabled(False):\n",
    "                aucc, auprc, f1, logits, loss = test(valid_gen, model)\n",
    "                if aucc > max_auc:\n",
    "                    model_max = copy.deepcopy(model)\n",
    "                    max_auc = aucc\n",
    "\n",
    "            print('Validation at Epoch '+ str(epo + 1) + ' , AUROC: '+ str(auc) + ' , AUPRC: ' + str(auprc) + ' , F1: '+str(f1))\n",
    "        \n",
    "    with torch.set_grad_enabled(False):\n",
    "            aucc, auprc, f1, logits, loss = test(valid_gen, model)\n",
    "            if aucc > max_auc:\n",
    "                model_max = copy.deepcopy(model)\n",
    "                max_auc = aucc\n",
    "        \n",
    "print('--- Go for Testing ---')\n",
    "try:\n",
    "    with torch.set_grad_enabled(False):\n",
    "        aucc, auprc, f1, logits, loss = test(test_gen, model_max)\n",
    "        print('Testing AUROC: ' + str(aucc) + ' , AUPRC: ' + str(auprc) + ' , F1: '+str(f1) + ' , Test loss: '+str(loss))\n",
    "except:\n",
    "    print('testing failed')"
   ]
  },
  {
   "cell_type": "code",
   "execution_count": null,
   "id": "d5741272",
   "metadata": {},
   "outputs": [],
   "source": [
    "# BindingDB\n",
    "# optimal threshold: 0.21793487668037415\n",
    "# AUROC:0.9167200191559495\n",
    "# AUPRC: 0.6239972299961172\n",
    "# Confusion Matrix : \n",
    "#  [[4444 1273]\n",
    "#  [  81  846]]\n",
    "# Recall :  0.912621359223301\n",
    "# Precision :  0.3992449268522888\n",
    "# Accuracy :  0.796207104154124\n",
    "# Sensitivity :  0.7773307678852545\n",
    "# Specificity :  0.912621359223301"
   ]
  },
  {
   "cell_type": "code",
   "execution_count": null,
   "id": "61539cdd",
   "metadata": {},
   "outputs": [],
   "source": []
  }
 ],
 "metadata": {
  "kernelspec": {
   "display_name": "Miniconda3 (4.7.10)",
   "language": "python",
   "name": "miniconda3-4.7.10"
  },
  "language_info": {
   "codemirror_mode": {
    "name": "ipython",
    "version": 3
   },
   "file_extension": ".py",
   "mimetype": "text/x-python",
   "name": "python",
   "nbconvert_exporter": "python",
   "pygments_lexer": "ipython3",
   "version": "3.7.3"
  }
 },
 "nbformat": 4,
 "nbformat_minor": 5
}
